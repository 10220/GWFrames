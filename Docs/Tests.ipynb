{
 "metadata": {
  "name": "Tests"
 },
 "nbformat": 3,
 "nbformat_minor": 0,
 "worksheets": [
  {
   "cells": [
    {
     "cell_type": "heading",
     "level": 1,
     "metadata": {},
     "source": [
      "Pointwise operations"
     ]
    },
    {
     "cell_type": "code",
     "collapsed": false,
     "input": [
      "import GWFrames\n",
      "T = [0., 1., 2.]\n",
      "LM = [[l,m] for l in range(0,9) for m in range(-l,l+1)]\n",
      "Data = zeros((len(LM), len(T)), dtype=complex)\n",
      "Data[0,:] = sqrt(4*pi)+0.0j\n",
      "\n",
      "# The Waveform objects A and B will represent uniform values of 3.0 and 5.0 over the sphere.\n",
      "# Note that the factor of sqrt(4*pi) is necessary due to the normalization of the spherical harmonics.\n",
      "A = GWFrames.Waveform(T, LM, 3.0*Data)\n",
      "B = GWFrames.Waveform(T, LM, 5.0*Data)\n",
      "A.SetSpinWeight(0)\n",
      "B.SetSpinWeight(0)\n",
      "\n",
      "# C should represent a value of 8.0 over the sphere, which is equivalent to\n",
      "# the (l,m)=(0,0) mode having the value 8.0*sqrt(4*pi).\n",
      "C = A+B\n",
      "print C.Data(0,0)/sqrt(4*pi), \"should be (8+0j)\"\n",
      "\n",
      "# D should represent a value of -2.0 over the sphere, which is equivalent to\n",
      "# the (l,m)=(0,0) mode having the value -2.0*sqrt(4*pi).\n",
      "D = A-B\n",
      "print D.Data(0,0)/sqrt(4*pi), \"should be (-2+0j)\"\n",
      "\n",
      "# D should represent a value of 15.0 over the sphere, which is equivalent to\n",
      "# the (l,m)=(0,0) mode having the value 15.0*sqrt(4*pi).\n",
      "D = A*B\n",
      "print D.Data(0,0)/sqrt(4*pi), \"should be (15+0j)\"\n",
      "\n",
      "# E should represent a value of 0.6 over the sphere, which is equivalent to\n",
      "# the (l,m)=(0,0) mode having the value 0.6*sqrt(4*pi).\n",
      "E = A/B\n",
      "print E.Data(0,0)/sqrt(4*pi), \"should be (0.6+0j)\""
     ],
     "language": "python",
     "metadata": {},
     "outputs": [
      {
       "output_type": "stream",
       "stream": "stdout",
       "text": [
        "(8+0j) should be (8+0j)\n",
        "(-2+0j) should be (-2+0j)\n",
        "(15+0j)"
       ]
      },
      {
       "output_type": "stream",
       "stream": "stdout",
       "text": [
        " should be (15+0j)\n",
        "(0.6+0j) should be (0.6+0j)\n"
       ]
      }
     ],
     "prompt_number": 9
    },
    {
     "cell_type": "code",
     "collapsed": false,
     "input": [],
     "language": "python",
     "metadata": {},
     "outputs": []
    }
   ],
   "metadata": {}
  }
 ]
}