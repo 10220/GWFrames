{
 "metadata": {
  "name": ""
 },
 "nbformat": 3,
 "nbformat_minor": 0,
 "worksheets": [
  {
   "cells": [
    {
     "cell_type": "heading",
     "level": 1,
     "metadata": {},
     "source": [
      "Basic layout of equations"
     ]
    },
    {
     "cell_type": "markdown",
     "metadata": {},
     "source": [
      "The precession equations are of the form\n",
      "\\begin{align}\n",
      "\\frac{dS_1}{dt} &= \\Omega_1 \\times S_1\n",
      "\\\\\n",
      "\\frac{dS_2}{dt} &= \\Omega_2 \\times S_2\n",
      "\\\\\n",
      "\\frac{d\\ell}{dt} &= \\Omega_{\\ell} \\times \\ell\n",
      "\\end{align}\n",
      "Here, $\\Omega_{1,2}$ are along $\\ell$, and $\\Omega_{\\ell}$ is along $n$, the vector between the holes.\n",
      "\n",
      "In Serguei's construction, he uses the same formulas for $\\Omega_{1,2}$, but his precession equation is\n",
      "\\begin{equation}\n",
      "\\frac{d\\ell}{dt} = -\\frac{1}{k}\\left( \\frac{dS_1}{dt} + \\frac{dS_2}{dt} \\right)~,\n",
      "\\end{equation}\n",
      "where $k = \\frac{m^2 \\nu}{v} \\left[ 1 + v\\left(\\frac{3}{2} + \\frac{\\nu}{6}\\right) + v^2\\left(\\frac{27}{8} - \\frac{19\\nu}{8} + \\frac{\\nu^2}{24}\\right) \\right]$.  So the first question is: Do our formulas for $d\\ell/dt$ agree roughly?"
     ]
    },
    {
     "cell_type": "heading",
     "level": 2,
     "metadata": {},
     "source": [
      "Importing $\\LaTeX$"
     ]
    },
    {
     "cell_type": "code",
     "collapsed": false,
     "input": [
      "%cd CodeGeneration\n",
      "\n",
      "from __future__ import division\n",
      "from sympy.interactive import printing\n",
      "printing.init_printing()\n",
      "from sympy import *\n",
      "from sympy.parsing.maxima import parse_maxima\n",
      "from sympy.polys.polyfuncs import horner\n",
      "\n",
      "# Import lots of symbols\n",
      "x,v,c,G,m,m1,m2,chi1_l,chi2_l,S,delta = symbols('x,v,c,G,m,m1,m2,S,delta', real=True)\n",
      "chi1_l,chi2_l,chi1_n,chi2_n = symbols('chi1_l,chi2_l,chi1_n,chi2_n', real=True)\n",
      "S1_l,S2_l,Sigma1_l,Sigma2_l = symbols('S1_l,S2_l,Sigma1_l,Sigma2_l', real=True)\n",
      "S1_n,S2_n,Sigma1_n,Sigma2_n = symbols('S1_n,S2_n,Sigma1_n,Sigma2_n', real=True)\n",
      "varpi = symbols(r'\\varpi', real=True)\n",
      "\n",
      "# Portable namespace for snuggletex\n",
      "ns = {}\n",
      "ns[\"S\"] = symbols('S', seq=False)\n",
      "ns[\"Sigma\"] = symbols('Sigma', seq=False)\n",
      "\n",
      "\n",
      "# This is for java, so we can use the java function I wrote\n",
      "CLASSPATH = \"CLASSPATH=.:\"+\"snuggletex-1.2.2/bin/snuggletex-core-1.2.2.jar:\"\\\n",
      "    +\"snuggletex-1.2.2/bin/snuggletex-upconversion-1.2.2.jar:\"\\\n",
      "    +\"snuggletex-1.2.2/bin/saxon9-9.1.0.8.jar:snuggletex-1.2.2/bin/saxon9-dom-9.1.0.8.jar\""
     ],
     "language": "python",
     "metadata": {},
     "outputs": [
      {
       "output_type": "stream",
       "stream": "stdout",
       "text": [
        "[Errno 2] No such file or directory: 'CodeGeneration'\n",
        "/Users/boyle/Research/GWFrames/PN/CodeGeneration\n"
       ]
      }
     ],
     "prompt_number": 92
    },
    {
     "cell_type": "heading",
     "level": 2,
     "metadata": {},
     "source": [
      "Magnitude of precession vector"
     ]
    },
    {
     "cell_type": "markdown",
     "metadata": {},
     "source": [
      "Boh\u00e9 et al. denote the magnitude of the precession vector as $\\varpi = a_{\\ell} \\gamma / x^{3/2}$.  It will turn out that the combined expression is no simpler than the expressions for each.  So we will calculate them separately.\n",
      "\n",
      "We need to process the expressions for $a_{\\ell}$ and $\\gamma$ [given by Eqs. (4.3) and (4.4)] and convert to the spin variables.  The spin variables they use are defined as\n",
      "\\begin{align}\n",
      "S &= S_1 + S_2~,\n",
      "\\\\\n",
      "\\Sigma &= m\\left(\\frac{S_2}{m_2} - \\frac{S_1}{m_1} \\right)~.\n",
      "\\end{align}\n",
      "These always appear divided by $m^2$, and $\\Sigma$ always appears multiplied by $\\delta$.  So we can write\n",
      "\\begin{align}\n",
      "\\frac{S}{m^2} &= \\chi_1 + \\chi_2~,\n",
      "\\\\\n",
      "\\frac{\\Sigma \\delta}{m^2} &= \\delta\\left(\\chi_2 m_2 - \\chi_1 m_1 \\right)\n",
      "= m\\delta\\left(\\chi_2 \\frac{1-\\delta}{2} - \\chi_1 \\frac{1+\\delta}{2} \\right)~.\n",
      "\\end{align}\n"
     ]
    },
    {
     "cell_type": "heading",
     "level": 3,
     "metadata": {},
     "source": [
      "Evaluating $\\gamma$"
     ]
    },
    {
     "cell_type": "code",
     "collapsed": false,
     "input": [
      "%%bash\n",
      "perl -pe 's/align/equation/g; s/\\\\Bigg//g; s/\\\\nonumber//g; s/\\\\\\\\//g; s/&//g; ' `# standard replacements` \\\n",
      "    -e 's/\\\\\\{/(/g; s/\\\\\\}/)/g; s/\\[/(/g; s/\\]/)/g;' \\\n",
      "    -e 's/\\\\gamma=//;' `# remove definition statement` \\\n",
      "    -e 's/\\\\frac\\{\\\\delta m\\}\\{m\\}/\\\\delta/g;' `# convert Bohe et al notation for delta to mine` \\\n",
      "    -e 's/ _/_/g;' `# remove spaces before subscripts` \\\n",
      "    -e 's/_\\\\ell//g;' `# transform ell subscript so snuggletex handles it nicely` \\\n",
      "    -e 's/-\\\\frac\\{22\\}\\{3\\}\\\\ln\\\\left\\(\\\\frac\\{r\\}\\{r._0\\}\\\\right\\)//;' `# remove gauge term` \\\n",
      "    -e 's/\\+\\\\mathcal\\{O\\}\\\\left\\(\\\\frac\\{1\\}\\{c\\^8\\}\\\\right\\)\\n//;' `# remove order statement` \\\n",
      "    -e 's/\\)\\./\\)/' `# remove period` \\\n",
      "    ../Sources/1212.5520/equations/gammaCO.tex > ../Sources/1212.5520/simplifiedequations/gammaCO.tex\n",
      "cat ../Sources/1212.5520/simplifiedequations/gammaCO.tex"
     ],
     "language": "python",
     "metadata": {},
     "outputs": [
      {
       "output_type": "stream",
       "stream": "stdout",
       "text": [
        "\\begin{equation}\n",
        "x( \n",
        "1\n",
        "+x \\left(1 -\\frac{1}{3} \\nu\\right)\n",
        "+x^2 \\left(1 -\\frac{65}{12} \\nu\\right)\n",
        "+x^3 \\left(\n",
        "1+\\left(-\\frac{2203}{2520}-\\frac{41}{192}\\pi^2\\right)\\nu + \\frac{229}{36} \\nu^2 + \\frac{1}{81}\\nu^3\\right) \n",
        "+\\frac{x^{3/2}}{G m^2}\\left(\\frac{5}{3}S+\\delta\\Sigma\\right)\n",
        "+\\frac{x^{5/2}}{G m^2} \\left(\\left(\\frac{10}{3} + \\frac{8}{9} \\nu\\right)S+2\\delta\\Sigma\\right)\n",
        "+\\frac{x^{7/2}}{G m^2} \\left(\\left(5 -\\frac{127}{12} \\nu -6 \\nu^2\\right)S+\\delta\\left(3 -\\frac{61}{6} \\nu -\\frac{8}{3} \\nu^2\\right)\\Sigma\\right)\n",
        ")\n",
        "\\end{equation}"
       ]
      }
     ],
     "prompt_number": 180
    },
    {
     "cell_type": "code",
     "collapsed": false,
     "input": [
      "gamma_latex = ! {CLASSPATH} java TeX2Maxima_stdin < ../Sources/1212.5520/simplifiedequations/gammaCO.tex\n",
      "gamma_latex = gamma_latex.s.replace('%','')\n",
      "gamma = sympify(parse_maxima(gamma_latex), locals=ns).simplify()\n",
      "gamma = gamma.subs({'G':1, 'm':1, 'c':1, 'x':v**2,\n",
      "                    'S':chi1_l+chi2_l,\n",
      "                    'Sigma':(chi2_l*(1-delta)/2-chi1_l*(1+delta)/2)\n",
      "                    }).subs(Abs(v), v).simplify()\n",
      "gamma = horner(gamma).simplify()"
     ],
     "language": "python",
     "metadata": {},
     "outputs": [],
     "prompt_number": 211
    },
    {
     "cell_type": "code",
     "collapsed": false,
     "input": [
      "print gamma"
     ],
     "language": "python",
     "metadata": {},
     "outputs": [
      {
       "output_type": "stream",
       "stream": "stdout",
       "text": [
        "v**2*(v**2*(-60480*nu + v*(-30240*chi1_l*(3*delta*(delta + 1) - 10) + 30240*chi2_l*(-3*delta*(delta - 1) + 10) + v*(-982800*nu + v*(20160*chi1_l*(-9*delta*(delta + 1) + 8*nu + 30) + 20160*chi2_l*(-9*delta*(delta - 1) + 8*nu + 30) + v*(-nu*(-560*nu*(4*nu + 2061) + 158616 + 38745*pi**2) + 15120*v*(chi1_l*(delta*(delta*(nu*(16*nu + 61) - 18) + nu*(16*nu + 61) - 18) - nu*(72*nu + 127) + 60) + chi2_l*(delta*(delta*(nu*(16*nu + 61) - 18) - nu*(16*nu + 61) + 18) - nu*(72*nu + 127) + 60)) + 181440)) + 181440)) + 181440) + 181440)/181440\n"
       ]
      }
     ],
     "prompt_number": 212
    },
    {
     "cell_type": "code",
     "collapsed": false,
     "input": [
      "ccode(N(gamma), assign_to=\"const double gamma\").replace('_l','l')"
     ],
     "language": "python",
     "metadata": {},
     "outputs": [
      {
       "metadata": {},
       "output_type": "pyout",
       "prompt_number": 222,
       "text": [
        "'const double gamma = 5.51146384479718e-6*pow(v, 2)*(pow(v, 2)*(-60480.0*nu + v*(-30240.0*chi1l*(3.0*delta*(delta + 1.0) - 10.0) + 30240.0*chi2l*(-3.0*delta*(delta - 1.0) + 10.0) + v*(-982800.0*nu + v*(20160.0*chi1l*(-9.0*delta*(delta + 1.0) + 8.0*nu + 30.0) + 20160.0*chi2l*(-9.0*delta*(delta - 1.0) + 8.0*nu + 30.0) + v*(-nu*(-560.0*nu*(4.0*nu + 2061.0) + 541013.822520207) + 15120.0*v*(chi1l*(delta*(delta*(nu*(16.0*nu + 61.0) - 18.0) + nu*(16.0*nu + 61.0) - 18.0) - nu*(72.0*nu + 127.0) + 60.0) + chi2l*(delta*(delta*(nu*(16.0*nu + 61.0) - 18.0) - nu*(16.0*nu + 61.0) + 18.0) - nu*(72.0*nu + 127.0) + 60.0)) + 181440.0)) + 181440.0)) + 181440.0) + 181440.0);'"
       ]
      }
     ],
     "prompt_number": 222
    },
    {
     "cell_type": "heading",
     "level": 3,
     "metadata": {},
     "source": [
      "Evaluating $a_{\\ell}$"
     ]
    },
    {
     "cell_type": "code",
     "collapsed": false,
     "input": [
      "%%bash\n",
      "perl -pe 's/align/equation/g; s/\\\\Bigg//g; s/\\\\nonumber//g; s/\\\\\\\\//g; s/&//g; ' `# standard replacements` \\\n",
      "    -e 's/\\\\\\{/(/g; s/\\\\\\}/)/g; s/\\[/(/g; s/\\]/)/g;' \\\n",
      "    -e 's/a_\\\\ell=//;' `# remove definition statement` \\\n",
      "    -e 's/\\\\frac\\{\\\\delta m\\}\\{m\\}/\\\\delta/g;' `# convert Bohe et al notation for delta to mine` \\\n",
      "    -e 's/ _/_/g;' `# remove spaces before subscripts` \\\n",
      "    -e 's/_\\\\ell//g;' `# transform ell subscript so snuggletex handles it nicely` \\\n",
      "    -e 's/_n//g;' `# transform n subscript so snuggletex handles it nicely` \\\n",
      "    -e 's/\\+\\\\mathcal\\{O\\}\\\\left\\(\\\\frac\\{1\\}\\{c\\^8\\}\\\\right\\)//;' `# remove order statement` \\\n",
      "    -e 's/\\)\\./\\)/' `# remove period` \\\n",
      "    ../Sources/1212.5520/equations/alCO.tex > ../Sources/1212.5520/simplifiedequations/alCO.tex\n",
      "cat ../Sources/1212.5520/simplifiedequations/alCO.tex"
     ],
     "language": "python",
     "metadata": {},
     "outputs": [
      {
       "output_type": "stream",
       "stream": "stdout",
       "text": [
        "\\begin{equation}\n",
        "\\label{alCO}\n",
        "\\frac{c^4 x^{7/2}}{G^2 m^3}(\n",
        "\\left(7S+3\\delta\\Sigma\\right)\n",
        "+x \\left(\\left(-10 -\\frac{29}{3} \\nu\\right)S+\\delta\\left(-6 -\\frac{9}{2} \\nu\\right)\\Sigma\\right)\n",
        " +x^2 \\left(\\left(\\frac{3}{2} + \\frac{59}{4} \\nu + \\frac{52}{9} \\nu^2\\right)S+\\delta\\left(\\frac{3}{2} + \\frac{73}{8} \\nu + \\frac{17}{6} \\nu^2\\right)\\Sigma\\right))\n",
        "\\end{equation}"
       ]
      }
     ],
     "prompt_number": 183
    },
    {
     "cell_type": "code",
     "collapsed": false,
     "input": [
      "a_l_latex = ! {CLASSPATH} java TeX2Maxima_stdin < ../Sources/1212.5520/simplifiedequations/alCO.tex\n",
      "a_l_latex = a_l_latex.s.replace('%','')\n",
      "a_l = sympify(parse_maxima(a_l_latex), locals=ns).simplify()\n",
      "a_l = a_l.subs({'G':1, 'm':1, 'c':1, 'x':v**2,\n",
      "                'S':chi1_n+chi2_n,\n",
      "                'Sigma':(chi2_n*(1-delta)/2-chi1_n*(1+delta)/2)\n",
      "                }).subs(Abs(v), v).simplify()\n",
      "a_l = horner(a_l).simplify()"
     ],
     "language": "python",
     "metadata": {},
     "outputs": [],
     "prompt_number": 213
    },
    {
     "cell_type": "code",
     "collapsed": false,
     "input": [
      "print a_l"
     ],
     "language": "python",
     "metadata": {},
     "outputs": [
      {
       "output_type": "stream",
       "stream": "stdout",
       "text": [
        "v**7*(-72*chi1_n*(3*delta*(delta + 1) - 14) + 72*chi2_n*(-3*delta*(delta - 1) + 14) + v**2*(-12*chi1_n*(-9*delta*(delta*(3*nu + 4) + 3*nu + 4) + 116*nu + 120) - 12*chi2_n*(9*delta*(-delta*(3*nu + 4) + 3*nu + 4) + 116*nu + 120) + v**2*(chi1_n*(-3*delta*(delta*(nu*(68*nu + 219) + 36) + nu*(68*nu + 219) + 36) + 4*nu*(208*nu + 531) + 216) + chi2_n*(3*delta*(-delta*(nu*(68*nu + 219) + 36) + nu*(68*nu + 219) + 36) + 4*nu*(208*nu + 531) + 216))))/144\n"
       ]
      }
     ],
     "prompt_number": 217
    },
    {
     "cell_type": "code",
     "collapsed": false,
     "input": [
      "ccode(N(a_l/v**3), assign_to=\"const double a_l_over_v3\").replace('_n','n')"
     ],
     "language": "python",
     "metadata": {},
     "outputs": [
      {
       "metadata": {},
       "output_type": "pyout",
       "prompt_number": 221,
       "text": [
        "'const double a_l_over_v3 = 0.00694444444444444*pow(v, 4)*(-72.0*chi1n*(3.0*delta*(delta + 1.0) - 14.0) + 72.0*chi2n*(-3.0*delta*(delta - 1.0) + 14.0) + pow(v, 2)*(-12.0*chi1n*(-9.0*delta*(delta*(3.0*nu + 4.0) + 3.0*nu + 4.0) + 116.0*nu + 120.0) - 12.0*chi2n*(9.0*delta*(-delta*(3.0*nu + 4.0) + 3.0*nu + 4.0) + 116.0*nu + 120.0) + pow(v, 2)*(chi1n*(-3.0*delta*(delta*(nu*(68.0*nu + 219.0) + 36.0) + nu*(68.0*nu + 219.0) + 36.0) + 4.0*nu*(208.0*nu + 531.0) + 216.0) + chi2n*(3.0*delta*(-delta*(nu*(68.0*nu + 219.0) + 36.0) + nu*(68.0*nu + 219.0) + 36.0) + 4.0*nu*(208.0*nu + 531.0) + 216.0))));'"
       ]
      }
     ],
     "prompt_number": 221
    }
   ],
   "metadata": {}
  }
 ]
}