{
 "metadata": {
  "name": ""
 },
 "nbformat": 3,
 "nbformat_minor": 0,
 "worksheets": [
  {
   "cells": [
    {
     "cell_type": "heading",
     "level": 1,
     "metadata": {},
     "source": [
      "Basic layout of equations"
     ]
    },
    {
     "cell_type": "markdown",
     "metadata": {},
     "source": [
      "The precession equations are of the form\n",
      "\\begin{align}\n",
      "\\frac{dS_1}{dt} &= \\Omega_1 \\times S_1\n",
      "\\\\\n",
      "\\frac{dS_2}{dt} &= \\Omega_2 \\times S_2\n",
      "\\\\\n",
      "\\frac{d\\ell}{dt} &= \\Omega_{\\ell} \\times \\ell\n",
      "\\end{align}\n",
      "Here, $\\Omega_{1,2}$ are along $\\ell$, and $\\Omega_{\\ell}$ is along $n$, the vector between the holes.\n",
      "\n",
      "In Serguei's construction, he uses the same formulas for $\\Omega_{1,2}$, but his precession equation is\n",
      "\\begin{equation}\n",
      "\\frac{d\\ell}{dt} = -\\frac{1}{k}\\left( \\frac{dS_1}{dt} + \\frac{dS_2}{dt} \\right)~,\n",
      "\\end{equation}\n",
      "where $k = \\frac{m^2 \\nu}{v} \\left[ 1 + v\\left(\\frac{3}{2} + \\frac{\\nu}{6}\\right) + v^2\\left(\\frac{27}{8} - \\frac{19\\nu}{8} + \\frac{\\nu^2}{24}\\right) \\right]$.  So the first question is: Do our formulas for $d\\ell/dt$ agree roughly?"
     ]
    },
    {
     "cell_type": "heading",
     "level": 2,
     "metadata": {},
     "source": [
      "Importing $\\LaTeX$"
     ]
    },
    {
     "cell_type": "code",
     "collapsed": false,
     "input": [
      "%cd CodeGeneration\n",
      "\n",
      "from __future__ import division\n",
      "from sympy.interactive import printing\n",
      "printing.init_printing()\n",
      "from sympy import *\n",
      "from sympy.parsing.maxima import parse_maxima\n",
      "from sympy.polys.polyfuncs import horner\n",
      "\n",
      "# Import lots of symbols\n",
      "x,v,c,G,m,m1,m2,S,delta = symbols('x,v,c,G,m,m1,m2,S,delta', real=True)\n",
      "chi1_l,chi2_l,chi1_n,chi2_n = symbols('chi1_l,chi2_l,chi1_n,chi2_n', real=True)\n",
      "S1_l,S2_l,Sigma1_l,Sigma2_l = symbols('S1_l,S2_l,Sigma1_l,Sigma2_l', real=True)\n",
      "S1_n,S2_n,Sigma1_n,Sigma2_n = symbols('S1_n,S2_n,Sigma1_n,Sigma2_n', real=True)\n",
      "varpi = symbols(r'\\varpi', real=True)\n",
      "\n",
      "# Portable namespace for snuggletex\n",
      "ns = {}\n",
      "ns[\"S\"] = symbols('S', seq=False)\n",
      "ns[\"Sigma\"] = symbols('Sigma', seq=False)\n",
      "S, S_l, S_n = symbols('S, S_l, S_n', seq=False)\n",
      "Sigma, Sigma_l, Sigma_n = symbols('Sigma, Sigma_l, Sigma_n', seq=False)\n",
      "\n",
      "\n",
      "# This is for java, so we can use the java function I wrote\n",
      "CLASSPATH = \"CLASSPATH=.:\"+\"snuggletex-1.2.2/bin/snuggletex-core-1.2.2.jar:\"\\\n",
      "    +\"snuggletex-1.2.2/bin/snuggletex-upconversion-1.2.2.jar:\"\\\n",
      "    +\"snuggletex-1.2.2/bin/saxon9-9.1.0.8.jar:snuggletex-1.2.2/bin/saxon9-dom-9.1.0.8.jar\""
     ],
     "language": "python",
     "metadata": {},
     "outputs": [
      {
       "output_type": "stream",
       "stream": "stdout",
       "text": [
        "/Users/boyle/Research/GWFrames/PN/CodeGeneration\n"
       ]
      }
     ],
     "prompt_number": 1
    },
    {
     "cell_type": "heading",
     "level": 2,
     "metadata": {},
     "source": [
      "Magnitude of precession vector"
     ]
    },
    {
     "cell_type": "markdown",
     "metadata": {},
     "source": [
      "Boh\u00e9 et al. denote the magnitude of the precession vector as $\\varpi = a_{\\ell} \\gamma / x^{3/2}$.  It will turn out that the combined expression is no simpler than the expressions for each.  So we will calculate them separately.\n",
      "\n",
      "We need to process the expressions for $a_{\\ell}$ and $\\gamma$ [given by Eqs. (4.3) and (4.4)] and convert to the spin variables.  The spin variables they use are defined as\n",
      "\\begin{align}\n",
      "S &= S_1 + S_2~,\n",
      "\\\\\n",
      "\\Sigma &= m\\left(\\frac{S_2}{m_2} - \\frac{S_1}{m_1} \\right)~.\n",
      "\\end{align}\n",
      "These always appear divided by $m^2$, and $\\Sigma$ always appears multiplied by $\\delta$.  So we can write\n",
      "\\begin{align}\n",
      "\\frac{S}{m^2} &= \\chi_1 \\frac{m_1^2}{m^2} + \\chi_2 \\frac{m_2^2}{m^2} = \\left(\\frac{\\chi_1}{4}(1+\\delta)^2  + \\frac{\\chi_2}{4}(1-\\delta)^2 \\right)~,\n",
      "\\\\\n",
      "\\frac{\\Sigma}{m^2} &= \\frac{1}{m} \\left(\\chi_2 m_2 - \\chi_1 m_1 \\right)\n",
      "= \\left(\\chi_2 \\frac{1-\\delta}{2} - \\chi_1 \\frac{1+\\delta}{2} \\right)~.\n",
      "\\end{align}\n"
     ]
    },
    {
     "cell_type": "heading",
     "level": 3,
     "metadata": {},
     "source": [
      "Evaluating $\\gamma$"
     ]
    },
    {
     "cell_type": "code",
     "collapsed": false,
     "input": [
      "%%bash\n",
      "perl -pe 's/align/equation/g; s/\\\\Bigg//g; s/\\\\nonumber//g; s/\\\\\\\\//g; s/&//g; ' `# standard replacements` \\\n",
      "    -e 's/\\\\\\{/(/g; s/\\\\\\}/)/g; s/\\[/(/g; s/\\]/)/g;' \\\n",
      "    -e 's/\\\\gamma=//;' `# remove definition statement` \\\n",
      "    -e 's/\\\\frac\\{\\\\delta m\\}\\{m\\}/\\\\delta/g;' `# convert Bohe et al. notation for delta to mine` \\\n",
      "    -e 's/ _/_/g;' `# remove spaces before subscripts` \\\n",
      "    -e 's/_\\\\ell//g;' `# remove subscript ell so snuggletex handles it nicely` \\\n",
      "    -e 's/-\\\\frac\\{22\\}\\{3\\}\\\\ln\\\\left\\(\\\\frac\\{r\\}\\{r._0\\}\\\\right\\)//;' `# remove gauge term` \\\n",
      "    -e 's/\\+\\\\mathcal\\{O\\}\\\\left\\(\\\\frac\\{1\\}\\{c\\^8\\}\\\\right\\)\\n//;' `# remove order statement` \\\n",
      "    -e 's/\\)\\./\\)/' `# remove period` \\\n",
      "    ../Sources/1212.5520/equations/gammaCO.tex > ../Sources/1212.5520/simplifiedequations/gammaCO.tex\n",
      "cat ../Sources/1212.5520/simplifiedequations/gammaCO.tex"
     ],
     "language": "python",
     "metadata": {},
     "outputs": [
      {
       "output_type": "stream",
       "stream": "stdout",
       "text": [
        "\\begin{equation}\n",
        "x( \n",
        "1\n",
        "+x \\left(1 -\\frac{1}{3} \\nu\\right)\n",
        "+x^2 \\left(1 -\\frac{65}{12} \\nu\\right)\n",
        "+x^3 \\left(\n",
        "1+\\left(-\\frac{2203}{2520}-\\frac{41}{192}\\pi^2\\right)\\nu + \\frac{229}{36} \\nu^2 + \\frac{1}{81}\\nu^3\\right) \n",
        "+\\frac{x^{3/2}}{G m^2}\\left(\\frac{5}{3}S+\\delta\\Sigma\\right)\n",
        "+\\frac{x^{5/2}}{G m^2} \\left(\\left(\\frac{10}{3} + \\frac{8}{9} \\nu\\right)S+2\\delta\\Sigma\\right)\n",
        "+\\frac{x^{7/2}}{G m^2} \\left(\\left(5 -\\frac{127}{12} \\nu -6 \\nu^2\\right)S+\\delta\\left(3 -\\frac{61}{6} \\nu -\\frac{8}{3} \\nu^2\\right)\\Sigma\\right)\n",
        ")\n",
        "\\end{equation}"
       ]
      }
     ],
     "prompt_number": 2
    },
    {
     "cell_type": "code",
     "collapsed": false,
     "input": [
      "gamma_latex = ! {CLASSPATH} java TeX2Maxima_stdin < ../Sources/1212.5520/simplifiedequations/gammaCO.tex\n",
      "gamma_latex = gamma_latex.s.replace('%','')\n",
      "gamma = sympify(parse_maxima(gamma_latex), locals=ns).simplify()\n",
      "gamma = gamma.subs({'G':1, 'm':1, 'c':1, 'x':v**2,\n",
      "                    'S':S_l, # chi1_l*(1+delta)**2/4+chi2_l*(1-delta)**2/4,\n",
      "                    'Sigma':Sigma_l # (chi2_l*(1-delta)/2-chi1_l*(1+delta)/2)\n",
      "                    }).subs(Abs(v), v).simplify()\n",
      "gamma = horner(gamma).simplify()"
     ],
     "language": "python",
     "metadata": {},
     "outputs": [],
     "prompt_number": 3
    },
    {
     "cell_type": "code",
     "collapsed": false,
     "input": [
      "print gamma"
     ],
     "language": "python",
     "metadata": {},
     "outputs": [
      {
       "output_type": "stream",
       "stream": "stdout",
       "text": [
        "v**2*(v**2*(-60480*nu + v*(302400*S_l + 181440*Sigma_l*delta + v*(-982800*nu + v*(40320*S_l*(4*nu + 15) + 362880*Sigma_l*delta + v*(-nu*(-560*nu*(4*nu + 2061) + 158616 + 38745*pi**2) - 15120*v*(S_l*(nu*(72*nu + 127) - 60) + 2*Sigma_l*delta*(nu*(16*nu + 61) - 18)) + 181440)) + 181440)) + 181440) + 181440)/181440\n"
       ]
      }
     ],
     "prompt_number": 4
    },
    {
     "cell_type": "heading",
     "level": 3,
     "metadata": {},
     "source": [
      "Evaluating $a_{\\ell}$"
     ]
    },
    {
     "cell_type": "code",
     "collapsed": false,
     "input": [
      "%%bash\n",
      "perl -pe 's/align/equation/g; s/\\\\Bigg//g; s/\\\\nonumber//g; s/\\\\\\\\//g; s/&//g; ' `# standard replacements` \\\n",
      "    -e 's/\\\\\\{/(/g; s/\\\\\\}/)/g; s/\\[/(/g; s/\\]/)/g;' \\\n",
      "    -e 's/a_\\\\ell=//;' `# remove definition statement` \\\n",
      "    -e 's/\\\\frac\\{\\\\delta m\\}\\{m\\}/\\\\delta/g;' `# convert Bohe et al. notation for delta to mine` \\\n",
      "    -e 's/ _/_/g;' `# remove spaces before subscripts` \\\n",
      "    -e 's/_\\\\ell//g;' `# transform ell subscript so snuggletex handles it nicely` \\\n",
      "    -e 's/_n//g;' `# transform n subscript so snuggletex handles it nicely` \\\n",
      "    -e 's/\\+\\\\mathcal\\{O\\}\\\\left\\(\\\\frac\\{1\\}\\{c\\^8\\}\\\\right\\)//;' `# remove order statement` \\\n",
      "    -e 's/\\)\\./\\)/' `# remove period` \\\n",
      "    ../Sources/1212.5520/equations/alCO.tex > ../Sources/1212.5520/simplifiedequations/alCO.tex\n",
      "cat ../Sources/1212.5520/simplifiedequations/alCO.tex"
     ],
     "language": "python",
     "metadata": {},
     "outputs": [
      {
       "output_type": "stream",
       "stream": "stdout",
       "text": [
        "\\begin{equation}\n",
        "\\label{alCO}\n",
        "\\frac{c^4 x^{7/2}}{G^2 m^3}(\n",
        "\\left(7S+3\\delta\\Sigma\\right)\n",
        "+x \\left(\\left(-10 -\\frac{29}{3} \\nu\\right)S+\\delta\\left(-6 -\\frac{9}{2} \\nu\\right)\\Sigma\\right)\n",
        " +x^2 \\left(\\left(\\frac{3}{2} + \\frac{59}{4} \\nu + \\frac{52}{9} \\nu^2\\right)S+\\delta\\left(\\frac{3}{2} + \\frac{73}{8} \\nu + \\frac{17}{6} \\nu^2\\right)\\Sigma\\right))\n",
        "\\end{equation}"
       ]
      }
     ],
     "prompt_number": 2
    },
    {
     "cell_type": "code",
     "collapsed": false,
     "input": [
      "a_l_latex = ! {CLASSPATH} java TeX2Maxima_stdin < ../Sources/1212.5520/simplifiedequations/alCO.tex\n",
      "a_l_latex = a_l_latex.s.replace('%','')\n",
      "a_l = sympify(parse_maxima(a_l_latex), locals=ns).simplify()\n",
      "a_l = a_l.subs({'G':1, 'm':1, 'c':1, 'x':v**2,\n",
      "                'S':S_n, # chi1_l*(1+delta)**2/4+chi2_l*(1-delta)**2/4,\n",
      "                'Sigma':Sigma_n # (chi2_l*(1-delta)/2-chi1_l*(1+delta)/2)\n",
      "                }).subs(Abs(v), v).simplify()\n",
      "a_l = horner(a_l).simplify()"
     ],
     "language": "python",
     "metadata": {},
     "outputs": [],
     "prompt_number": 14
    },
    {
     "cell_type": "code",
     "collapsed": false,
     "input": [
      "print a_l"
     ],
     "language": "python",
     "metadata": {},
     "outputs": [
      {
       "output_type": "stream",
       "stream": "stdout",
       "text": [
        "v**7*(504*S_n + 216*Sigma_n*delta + v**2*(-24*S_n*(29*nu + 30) - 108*Sigma_n*delta*(3*nu + 4) + v**2*(2*S_n*(nu*(208*nu + 531) + 54) + 3*Sigma_n*delta*(nu*(68*nu + 219) + 36))))/72\n"
       ]
      }
     ],
     "prompt_number": 15
    },
    {
     "cell_type": "heading",
     "level": 3,
     "metadata": {},
     "source": [
      "Putting them together"
     ]
    },
    {
     "cell_type": "code",
     "collapsed": false,
     "input": [
      "print('\\n    '.join((\"\",\n",
      "                     ccode(N(chi1_l*(1+delta)**2/4+chi2_l*(1-delta)**2/4), assign_to=\"const double S_l\"),\n",
      "                     ccode(N(chi1_n*(1+delta)**2/4+chi2_n*(1-delta)**2/4), assign_to=\"const double S_n\"),\n",
      "                     ccode(N(chi2_l*(1-delta)/2-chi1_l*(1+delta)/2), assign_to=\"const double Sigma_l\"),\n",
      "                     ccode(N(chi2_n*(1-delta)/2-chi1_n*(1+delta)/2), assign_to=\"const double Sigma_n\"),\n",
      "                     ccode(N(gamma), assign_to=\"const double gamma\"),\n",
      "                     ccode(N(a_l/v**3), assign_to=\"const double a_l_over_vcubed\"),\n",
      "                     \"return gamma*a_l_over_vcubed;\")))"
     ],
     "language": "python",
     "metadata": {},
     "outputs": [
      {
       "output_type": "stream",
       "stream": "stdout",
       "text": [
        "\n",
        "    const double S_l = 0.25*chi1_l*pow(delta + 1.0, 2) + 0.25*chi2_l*pow(-delta + 1.0, 2);\n",
        "    const double S_n = 0.25*chi1_n*pow(delta + 1.0, 2) + 0.25*chi2_n*pow(-delta + 1.0, 2);\n",
        "    const double Sigma_l = -0.5*chi1_l*(delta + 1.0) + 0.5*chi2_l*(-delta + 1.0);\n",
        "    const double Sigma_n = -0.5*chi1_n*(delta + 1.0) + 0.5*chi2_n*(-delta + 1.0);\n",
        "    const double gamma = 5.51146384479718e-6*pow(v, 2)*(pow(v, 2)*(-60480.0*nu + v*(302400.0*S_l + 181440.0*Sigma_l*delta + v*(-982800.0*nu + v*(40320.0*S_l*(4.0*nu + 15.0) + 362880.0*Sigma_l*delta + v*(-nu*(-560.0*nu*(4.0*nu + 2061.0) + 541013.822520207) - 15120.0*v*(S_l*(nu*(72.0*nu + 127.0) - 60.0) + 2.0*Sigma_l*delta*(nu*(16.0*nu + 61.0) - 18.0)) + 181440.0)) + 181440.0)) + 181440.0) + 181440.0);\n",
        "    const double a_l_over_vcubed = 0.0138888888888889*pow(v, 4)*(504.0*S_n + 216.0*Sigma_n*delta + pow(v, 2)*(-24.0*S_n*(29.0*nu + 30.0) - 108.0*Sigma_n*delta*(3.0*nu + 4.0) + pow(v, 2)*(2.0*S_n*(nu*(208.0*nu + 531.0) + 54.0) + 3.0*Sigma_n*delta*(nu*(68.0*nu + 219.0) + 36.0))));\n",
        "    return gamma*a_l_over_vcubed;\n"
       ]
      }
     ],
     "prompt_number": 21
    }
   ],
   "metadata": {}
  }
 ]
}