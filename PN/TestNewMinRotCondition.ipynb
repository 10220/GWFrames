{
 "metadata": {
  "name": ""
 },
 "nbformat": 3,
 "nbformat_minor": 0,
 "worksheets": [
  {
   "cells": [
    {
     "cell_type": "code",
     "collapsed": false,
     "input": [
      "import GWFrames"
     ],
     "language": "python",
     "metadata": {},
     "outputs": [],
     "prompt_number": 1
    },
    {
     "cell_type": "markdown",
     "metadata": {},
     "source": [
      "Let's make our axis $a$ rotate about the $z$ axis at an angle $\\theta$ with a constant angular velocity $\\alpha$.  Then, \n",
      "\\begin{align}\n",
      "a &= (\\sin\\theta\\cos\\alpha t, \\sin\\theta\\sin\\alpha t, \\cos\\theta)~,\n",
      "\\\\\n",
      "\\dot{a} &= \\alpha(-\\sin\\theta\\sin\\alpha t, \\sin\\theta\\cos\\alpha t, 0)~.\n",
      "\\end{align}\n",
      "We have\n",
      "\\begin{equation}\n",
      "R_{\\text{ax}}\n",
      "= e^{\\frac{\\theta}{2} (-x \\sin\\alpha t + y \\cos\\alpha t)}\n",
      "= \\cos(\\theta/2) + \\sin(\\theta/2)\\, (-x \\sin\\alpha t + y \\cos\\alpha t)\n",
      "\\end{equation}\n",
      "\\begin{equation}\n",
      "\\dot{R}_{\\text{ax}} = -\\alpha\\, \\sin(\\theta/2)\\, (x \\cos\\alpha t + y \\sin\\alpha t)\n",
      "\\end{equation}\n",
      "Now, the claim is that we also have \n",
      "\\begin{align}\n",
      "\\dot{R}_{\\text{ax}}\n",
      "&= \\frac{-\\dot{a}\\, z} {\\sqrt{2+2 a_z}} - \\frac{\\partial_t a_z} {2+2 a_z}R_{\\text{ax}} \\\\\n",
      "&= \\frac{-\\dot{a}\\, z} {\\sqrt{2+2 \\cos\\theta}} \\\\\n",
      "&= \\frac{\\alpha\\sin\\theta} {\\sqrt{2+2 \\cos\\theta}}(\\sin\\alpha t, -\\cos\\alpha t, 0)\\times (0,0,1) \\\\\n",
      "&= \\frac{\\alpha\\sin\\theta} {\\sqrt{2+2 \\cos\\theta}}(-\\cos\\alpha t, -\\sin\\alpha t, 0)~,\n",
      "\\end{align}\n",
      "which does indeed agree with our previous expression."
     ]
    },
    {
     "cell_type": "code",
     "collapsed": false,
     "input": [
      "theta = 0.45\n",
      "alpha = 0.56\n",
      "zHat = GWFrames.Quaternion(0,0,0,1.)\n",
      "def a(t) :\n",
      "    return GWFrames.Quaternion(0, sin(theta)*cos(alpha*t), sin(theta)*sin(alpha*t), cos(theta))\n",
      "def adot(t) :\n",
      "    return alpha*GWFrames.Quaternion(0, -sin(theta)*sin(alpha*t), sin(theta)*cos(alpha*t), 0)\n",
      "def Rax(t) :\n",
      "    return cos(theta/2)+sin(theta/2)*GWFrames.Quaternion(0, -sin(alpha*t), cos(alpha*t), 0)\n",
      "def Raxdot(t) :\n",
      "    return alpha*sin(theta/2)*GWFrames.Quaternion(0, -cos(alpha*t), -sin(alpha*t), 0)"
     ],
     "language": "python",
     "metadata": {},
     "outputs": [],
     "prompt_number": 2
    },
    {
     "cell_type": "code",
     "collapsed": false,
     "input": [
      "print max([(a(t) - Rax(t)*zHat*Rax(t).conjugate()).abs() for t in linspace(0,4*pi/alpha, num=40)])"
     ],
     "language": "python",
     "metadata": {},
     "outputs": [
      {
       "output_type": "stream",
       "stream": "stdout",
       "text": [
        "2.99660614124e-16\n"
       ]
      }
     ],
     "prompt_number": 23
    },
    {
     "cell_type": "code",
     "collapsed": false,
     "input": [],
     "language": "python",
     "metadata": {},
     "outputs": []
    },
    {
     "cell_type": "markdown",
     "metadata": {},
     "source": [
      "Now, let's try $a = (\\sin\\alpha t, 0, \\cos\\alpha t)$, with $\\dot{a} = \\alpha(\\cos\\alpha t, 0, -\\sin\\alpha t)$.\n",
      "Clearly,\n",
      "\\begin{equation}\n",
      "R_{\\text{ax}} = e^{\\alpha t y/2} = \\cos(\\alpha t/2) + \\sin(\\alpha t/2) y\n",
      "\\end{equation}\n",
      "\\begin{equation}\n",
      "\\dot{R}_{\\text{ax}} = \\alpha y e^{\\alpha t y/2}/2 = \\alpha y \\cos(\\alpha t/2)/2 - \\alpha\\sin(\\alpha t/2) /2\n",
      "\\end{equation}\n",
      "Now, the claim is that we also have \n",
      "\\begin{align}\n",
      "\\dot{R}_{\\text{ax}}\n",
      "&= \\frac{-\\dot{a}\\, z} {\\sqrt{2+2 a_z}} - \\frac{\\partial_t a_z} {2+2 a_z}R_{\\text{ax}} \\\\\n",
      "&= \\frac{-\\alpha(\\cos\\alpha t, 0, -\\sin\\alpha t)\\, z} {\\sqrt{2+2 \\cos\\alpha t}} - \\frac{-\\alpha\\sin\\alpha t} {2+2 \\cos\\alpha t}R_{\\text{ax}} \\\\\n",
      "&= \\frac{-\\alpha\\sin\\alpha t + \\alpha \\cos\\alpha t y} {\\sqrt{2+2 \\cos\\alpha t}} - \\frac{-\\alpha\\sin\\alpha t} {2+2 \\cos\\alpha t}[ \\cos(\\alpha t/2) + \\sin(\\alpha t/2) y ] \\\\\n",
      "&= \\frac{-\\alpha\\sin\\alpha t + \\alpha \\cos\\alpha t y} {2 \\cos\\alpha t/2} - \\frac{-\\alpha\\sin\\alpha t} {4 \\cos^2\\alpha t/2}[ \\cos(\\alpha t/2) + \\sin(\\alpha t/2) y ] \\\\\n",
      "&= \\frac{-\\alpha\\sin\\alpha t} {4 \\cos\\alpha t/2} + \\alpha \\frac{2\\cos\\alpha t \\cos\\alpha t/2 +\\alpha\\sin\\alpha t \\sin(\\alpha t/2) y} {4 \\cos^2\\alpha t/2}y \\\\\n",
      "\\end{align}\n",
      "which does indeed agree with our previous expression."
     ]
    },
    {
     "cell_type": "markdown",
     "metadata": {},
     "source": [
      "$\\frac{1+\\cos\\theta}{2} = \\cos^2 \\theta/2$\n",
      "\n",
      "$\\sqrt{\\frac{1}{2[1+\\cos\\theta]}} = \\frac{1}{2\\cos \\theta/2}$"
     ]
    },
    {
     "cell_type": "code",
     "collapsed": false,
     "input": [
      "theta = 0.45\n",
      "alpha = 0.56\n",
      "zHat = GWFrames.Quaternion(0,0,0,1.)\n",
      "def a(t) :\n",
      "    return GWFrames.Quaternion(0, sin(alpha*t), 0, cos(alpha*t))\n",
      "def adot(t) :\n",
      "    return alpha*GWFrames.Quaternion(0, cos(alpha*t), 0, -sin(alpha*t))\n",
      "def Rax(t) :\n",
      "    return cos(alpha*t/2)+sin(alpha*t/2)*GWFrames.Quaternion(0, 0, 1, 0)\n",
      "def Raxdot(t) :\n",
      "    return -alpha*sin(alpha*t/2)/2+alpha*cos(alpha*t/2)*GWFrames.Quaternion(0, 0, 1, 0)/2\n",
      "def Raxdot2(t) :\n",
      "    return -adot(t)*zHat/sqrt(2+2*a(t)[3])-(adot(t)[3]/(2+2*a(t)[3]))*Rax(t)"
     ],
     "language": "python",
     "metadata": {},
     "outputs": [],
     "prompt_number": 39
    },
    {
     "cell_type": "code",
     "collapsed": false,
     "input": [
      "print max([(a(t) - Rax(t)*zHat*Rax(t).conjugate()).abs() for t in linspace(-2*pi/alpha,2*pi/alpha, num=50)])"
     ],
     "language": "python",
     "metadata": {},
     "outputs": [
      {
       "output_type": "stream",
       "stream": "stdout",
       "text": [
        "2.77555756156e-16\n"
       ]
      }
     ],
     "prompt_number": 34
    },
    {
     "cell_type": "code",
     "collapsed": false,
     "input": [
      "print max([(Raxdot(t) - Raxdot2(t)).abs() for t in linspace(-.99*pi/alpha,.99*pi/alpha, num=10)])"
     ],
     "language": "python",
     "metadata": {},
     "outputs": [
      {
       "output_type": "stream",
       "stream": "stdout",
       "text": [
        "7.50161217866e-13\n"
       ]
      }
     ],
     "prompt_number": 35
    },
    {
     "cell_type": "code",
     "collapsed": false,
     "input": [
      "def angle(Q) :\n",
      "    try :\n",
      "        return Q.angle()\n",
      "    except :\n",
      "        return 666.\n",
      "print [[angle(Rax(t)), alpha*t/2,(Raxdot(t) - Raxdot2(t)).abs()] for t in linspace(-2.1*pi/alpha,2*pi/alpha, num=80)]\n",
      "print max([(Raxdot(t) - Raxdot2(t)).abs() for t in linspace(-2.1*pi/alpha,2*pi/alpha, num=10)])"
     ],
     "language": "python",
     "metadata": {},
     "outputs": [
      {
       "output_type": "stream",
       "stream": "stdout",
       "text": [
        "[[5.969026041820608, -3.2986722862692828, 0.5669804704412816], [6.132070723842356, -3.2171499452584085, 0.5616023044109053], [6.271255208495069, -3.1356276042475342, 0.5600099630555334], [6.10821052647332, -3.0541052632366599, 0.5621499883569937], [5.94516584445157, -2.9725829222257851, 0.5680943102113925], [5.782121162429822, -2.8910605812149108, 0.5780462288319967], [5.619076480408073, -2.8095382402040365, 0.5923577624043674], [5.4560317983863245, -2.7280158991931622, 0.6115611941042753], [5.292987116364576, -2.6464935581822879, 0.6364203124414395], [5.129942434342826, -2.5649712171714132, 0.6680111136829759], [4.966897752321078, -2.4834488761605389, 0.7078492060628493], [4.803853070299329, -2.4019265351496646, 0.758095050773839], [4.640808388277581, -2.3204041941387903, 0.8218955456375054], [4.477763706255832, -2.238881853127916, 0.9039777935119068], [4.314719024234083, -2.1573595121170417, 1.0117398797332917], [4.151674342212334, -2.0758371711061669, 1.1573997865693642], [3.988629660190585, -1.9943148300952926, 1.3626277905426474], [3.8255849781688367, -1.9127924890844183, 1.6698059127862122], [3.6625402961470876, -1.8312701480735438, 2.1744328548879603], [3.499495614125339, -1.7497478070626695, 3.1461046090930265], [3.3364509321035904, -1.6682254660517952, 5.756870554561441], [3.1734062500818414, -1.5867031250409207, 35.20655809025653], [3.010361568060093, -1.5051807840300464, 7.483802955336732e-15], [2.847316886038344, -1.4236584430191721, 4.712321323804737e-16], [2.6842722040165947, -1.3421361020082974, 3.0531133177191805e-16], [2.521227521994846, -1.2606137609974231, 1.0007415106216802e-16], [2.3581828399730975, -1.1790914199865488, 6.206335383118183e-17], [2.195138157951349, -1.0975690789756745, 8.777083671441753e-17], [2.0320934759296003, -1.0160467379648002, 6.206335383118183e-17], [1.869048793907851, -0.93452439695392542, 8.777083671441753e-17], [1.7060041118861022, -0.85300205594305112, 1.1102230246251565e-16], [1.5429594298643539, -0.77147971493217682, 6.206335383118183e-17], [1.3799147478426053, -0.68995737392130252, 3.925231146709438e-17], [1.2168700658208564, -0.60843503291042822, 0.0], [1.0538253837991078, -0.52691269189955392, 2.7755575615628914e-17], [0.8907807017773591, -0.44539035088867956, 2.7755575615628914e-17], [0.7277360197556095, -0.36386800987780477, 1.3877787807814457e-17], [0.5646913377338609, -0.28234566886693047, 5.551115123125783e-17], [0.4016466557121124, -0.20082332785605617, 5.594315114139762e-17], [0.2386019736903637, -0.11930098684518187, 0.0], [0.07555729166861513, -0.03777864583430756, 1.734723475976807e-18], [0.08748739035313353, 0.043743695176566753, 1.734723475976807e-18], [0.2505320723748831, 0.12526603618744156, 5.594315114139762e-17], [0.4135767543966318, 0.20678837719831586, 1.3877787807814457e-17], [0.5766214364183805, 0.28831071820919019, 5.721958498152797e-17], [0.739666118440129, 0.36983305922006449, 0.0], [0.9027108004618777, 0.45135540023093879, 1.3877787807814457e-17], [1.0657554824836262, 0.53287774124181309, 6.206335383118183e-17], [1.2288001645053759, 0.61440008225268794, 2.7755575615628914e-17], [1.3918448465271245, 0.69592242326356224, 0.0], [1.554889528548873, 0.77744476427443654, 0.0], [1.7179342105706215, 0.85896710528531084, 6.206335383118183e-17], [1.88097889259237, 0.94048944629618514, 2.7755575615628914e-17], [2.0440235746141187, 1.0220117873070593, 1.1102230246251565e-16], [2.2070682566358677, 1.1035341283179338, 1.1102230246251565e-16], [2.3701129386576163, 1.1850564693288081, 7.850462293418876e-17], [2.533157620679365, 1.2665788103396824, 1.3877787807814457e-16], [2.6962023027011135, 1.3481011513505567, 6.938893903907228e-17], [2.859246984722864, 1.4296234923614319, 2.3561606619023687e-16], [3.0222916667446125, 1.5111458333723062, 1.2479724146564467e-14], [3.185336348766361, 1.5926681743831805, 25.605731240506458], [3.3483810307881097, 1.6741905153940548, 5.425827313864066], [3.5114257128098583, 1.7557128564049291, 3.045721388072721], [3.674470394831607, 1.8372351974158034, 2.126870565329754], [3.837515076853356, 1.9187575384266777, 1.642315844508746], [4.000559758875104, 2.000279879437552, 1.3448564673312284], [4.163604440896853, 2.0818022204484263, 1.1450657458499482], [4.326649122918601, 2.1633245614593006, 1.0027574835506905], [4.48969380494035, 2.2448469024701749, 0.8972118633087826], [4.6527384869620985, 2.3263692434810492, 0.8166767788938236], [4.815783168983847, 2.4078915844919235, 0.7540044634573824], [4.978827851005598, 2.4894139255027992, 0.7046122388806493], [5.141872533027347, 2.5709362665136735, 0.6654414730004568], [5.3049172150490955, 2.6524586075245478, 0.6343883327046426], [5.467961897070844, 2.7339809485354221, 0.6099751393750218], [5.631006579092592, 2.8155032895462964, 0.5911523573582846], [5.794051261114341, 2.8970256305571707, 0.5771754393505744], [5.95709594313609, 2.978547971568045, 0.5675267468601538], [6.1201406251578385, 3.0600703125789193, 0.5618660166672402], [666.0, 3.1415926535897931, 0.56]]\n",
        "4.02376605922\n"
       ]
      }
     ],
     "prompt_number": 48
    },
    {
     "cell_type": "markdown",
     "metadata": {},
     "source": [
      "Notice that everything is wrong until we get to \n",
      "\n",
      "    [3.1734062500818414, -1.5867031250409207, 35.20655809025653],\n",
      "    [3.010361568060093, -1.5051807840300464, 7.483802955336732e-15]\n",
      "\n",
      "The first of these is wrong, but the second is basically roundoff.  More generally, we see that when $\\lvert \\alpha t/2 \\rvert < \\pi/2$, we have agreement; otherwise, we have disagreement.  Equivalently, we see that we have disagreement if and only if the angle of the rotor is greater than $\\pi$.\n",
      "\n",
      "If we inspect the values of `Raxdot` and `Raxdot2`, we see that `Raxdot2` is the one that's poorly behaved.  This is my fancy new algorithm for the time-derivative of a rotor, and it is going bad whenever the angle of the rotor is greater than $\\pi$.  Of course, that angle will generally get up close to $2\\pi$ for precessing systems, so the fancy new version fails.\n",
      "\n",
      "That's not to say it can't be fixed, but my naive implementation is insufficient.  On the other hand, it's not clear that this should ever come up in my current implementation.  In particular, the $R_{\\text{ax}}$ I'm using is precisely a square root, so it can never have an angle greater than $\\pi$."
     ]
    },
    {
     "cell_type": "code",
     "collapsed": false,
     "input": [],
     "language": "python",
     "metadata": {},
     "outputs": []
    }
   ],
   "metadata": {}
  }
 ]
}