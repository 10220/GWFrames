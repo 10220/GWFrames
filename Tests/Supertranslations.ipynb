{
 "metadata": {
  "name": "Supertranslations"
 },
 "nbformat": 3,
 "nbformat_minor": 0,
 "worksheets": [
  {
   "cells": [
    {
     "cell_type": "markdown",
     "metadata": {},
     "source": [
      "To test the supertranslations code we first need a nontrivial analytic `Waveform` object.  The easiest will be just a simple linearly increasing function of time.  In fact, we might as well make the data equal to the time.  We have $f(t, \\vartheta, \\varphi) = t$."
     ]
    },
    {
     "cell_type": "code",
     "collapsed": false,
     "input": [
      "import numpy as np\n",
      "import GWFrames\n",
      "\n",
      "# Construct the Waveform\n",
      "T = np.linspace(0., 19., num=20)\n",
      "LM = [[l,m] for l in range(0,9) for m in range(-l,l+1)]\n",
      "Data = np.zeros((len(LM), len(T)), dtype=complex)\n",
      "Data[0,:] = np.sqrt(4*np.pi)*T[:]  # Note: the factor of sqrt(4*pi) is needed due to normalization of the spherical harmonics.\n",
      "A = GWFrames.Waveform(T, LM, Data)\n",
      "A.SetSpinWeight(0)\n",
      "A.SetFrameType(GWFrames.Inertial)"
     ],
     "language": "python",
     "metadata": {},
     "outputs": [],
     "prompt_number": 1
    },
    {
     "cell_type": "markdown",
     "metadata": {},
     "source": [
      "Next, we need analytic supertranslations to apply.  The first will be the fairly trivial constant offset by 1 time unit.  The value of the time-translated `Waveform` should simply be advanced by 1.  Note that the factor of $\\sqrt{4\\\\, \\pi}$ is present because we are giving the time offset in terms of the spherical-harmonic components, rather than the real space components."
     ]
    },
    {
     "cell_type": "code",
     "collapsed": false,
     "input": [
      "# Construct the simplest supertranslation\n",
      "gamma = [0.+0.j for i in range(len(LM))] # zeros((len(LM), 1), dtype=complex)\n",
      "gamma[0] = np.sqrt(4*np.pi)*1.0\n",
      "B = A.ApplySupertranslation(GWFrames.vectorc(gamma))\n",
      "print [(A.T(i), j) for i,j in enumerate(A.Data(0))]\n",
      "print [(B.T(i), j) for i,j in enumerate(B.Data(0))]\n"
     ],
     "language": "python",
     "metadata": {},
     "outputs": [
      {
       "output_type": "stream",
       "stream": "stdout",
       "text": [
        "[(0.0, 0j), (1.0, (3.5449077018110318+0j)), (2.0, (7.0898154036220635+0j)), (3.0, (10.634723105433096+0j)), (4.0, (14.179630807244127+0j)), (5.0, (17.724538509055158+0j)), (6.0, (21.269446210866192+0j)), (7.0, (24.814353912677223+0j)), (8.0, (28.359261614488254+0j)), (9.0, (31.904169316299285+0j)), (10.0, (35.449077018110316+0j)), (11.0, (38.99398471992135+0j)), (12.0, (42.538892421732385+0j)), (13.0, (46.083800123543412+0j)), (14.0, (49.628707825354446+0j)), (15.0, (53.173615527165474+0j)), (16.0, (56.718523228976508+0j)), (17.0, (60.263430930787543+0j)), (18.0, (63.80833863259857+0j)), (19.0, (67.353246334409604+0j))]\n",
        "[(0.0, (3.5449077018110309+0j)), (1.0, (7.0898154036220618+0j)), (2.0, (10.634723105433096+0j)), (3.0, (14.179630807244124+0j)), (4.0, (17.724538509055158+0j)), (5.0, (21.269446210866192+0j)), (6.0, (24.814353912677223+0j)), (7.0, (28.359261614488247+0j)), (8.0, (31.904169316299281+0j)), (9.0, (35.449077018110316+0j)), (10.0, (38.993984719921343+0j)), (11.0, (42.538892421732385+0j)), (12.0, (46.083800123543412+0j)), (13.0, (49.628707825354446+0j)), (14.0, (53.173615527165474+0j)), (15.0, (56.718523228976494+0j)), (16.0, (60.263430930787543+0j)), (17.0, (63.808338632598563+0j)), (18.0, (67.353246334409604+0j))]\n"
       ]
      }
     ],
     "prompt_number": 2
    },
    {
     "cell_type": "markdown",
     "metadata": {},
     "source": [
      "As we can see, the times remained the same, but the values shifted by exchanging places in the time.  So the time translation works correctly.\n",
      "\n",
      "Next, we supply a simple translation by 1 unit in the *positive* $z$ direction.  The requirement that $\\gamma(\\vartheta, \\varphi)$ be real translates into the relation $\\gamma^{\\ell,m} = \\bar{\\gamma}^{\\ell,-m}$.  Note that the factor of $\\sqrt{4\\\\, \\pi/3}$ is present because of the normalization of the spherical harmonics.  Also note that a spatial translation by +1 unit is equivalent to a supertranslation by -1 unit.  With this choice, we have $\\gamma(\\vartheta, \\varphi) = -\\cos \\vartheta$, so that $f\\big(t+\\gamma(\\vartheta, \\varphi), \\vartheta, \\varphi\\big) = t-\\cos \\vartheta$.  Only the average and $(\\ell,m)=(1,0)$ modes are present in the result; the average should not be affected, while the $(\\ell,m)=(1,0)$ mode should correspond to a simple cosine, which is a mode of weight $-\\sqrt{4\\pi/3}=-2.0466534158929779$.\n",
      "\n",
      "Note also that the time axis should not change, except that we need to cut it down so that all data can be interpolated.  In principle, this means that time should start at 1.0 units.  Because of finite precision, however, the algorithm selects the next time step \u2013 which is 2.0."
     ]
    },
    {
     "cell_type": "code",
     "collapsed": false,
     "input": [
      "gamma = [0.0+0.0j for i in range(len(LM))] # zeros((len(LM), 1), dtype=complex)\n",
      "gamma[0] = np.sqrt(4*np.pi)*(0.0 + 0.0j)\n",
      "gamma[1] = np.sqrt(4*np.pi/3)*(0.0 + 0.0j)\n",
      "gamma[2] = np.sqrt(4*np.pi/3)*(-1.0 + 0.0j)\n",
      "gamma[3] = np.sqrt(4*np.pi/3)*(0.0 + 0.0j)\n",
      "C = A.ApplySupertranslation(GWFrames.vectorc(gamma))\n",
      "print(\"\\nA: (l,m) = (0,0)\")\n",
      "print [(A.T(i), j) for i,j in enumerate(A.Data(0))]\n",
      "print(\"\\nC: (l,m) = (0,0)\")\n",
      "print [(C.T(i), j) for i,j in enumerate(C.Data(0))]\n",
      "print(\"\\nC: (l,m) = (1,0)\")\n",
      "print [(C.T(i), j) for i,j in enumerate(C.Data(2))]\n"
     ],
     "language": "python",
     "metadata": {},
     "outputs": [
      {
       "output_type": "stream",
       "stream": "stdout",
       "text": [
        "\n",
        "A: (l,m) = (0,0)\n",
        "[(0.0, 0j), (1.0, (3.5449077018110318+0j)), (2.0, (7.0898154036220635+0j)), (3.0, (10.634723105433096+0j)), (4.0, (14.179630807244127+0j)), (5.0, (17.724538509055158+0j)), (6.0, (21.269446210866192+0j)), (7.0, (24.814353912677223+0j)), (8.0, (28.359261614488254+0j)), (9.0, (31.904169316299285+0j)), (10.0, (35.449077018110316+0j)), (11.0, (38.99398471992135+0j)), (12.0, (42.538892421732385+0j)), (13.0, (46.083800123543412+0j)), (14.0, (49.628707825354446+0j)), (15.0, (53.173615527165474+0j)), (16.0, (56.718523228976508+0j)), (17.0, (60.263430930787543+0j)), (18.0, (63.80833863259857+0j)), (19.0, (67.353246334409604+0j))]\n",
        "\n",
        "C: (l,m) = (0,0)\n",
        "[(2.0, (7.0898154036220635+0j)), (3.0, (10.634723105433094+0j)), (4.0, (14.179630807244125+0j)), (5.0, (17.724538509055158+0j)), (6.0, (21.269446210866192+0j)), (7.0, (24.81435391267722+0j)), (8.0, (28.359261614488251+0j)), (9.0, (31.904169316299274+0j)), (10.0, (35.449077018110309+0j)), (11.0, (38.993984719921343+0j)), (12.0, (42.538892421732385+0j)), (13.0, (46.083800123543412+0j)), (14.0, (49.628707825354439+0j)), (15.0, (53.173615527165474+0j)), (16.0, (56.718523228976508+0j)), (17.0, (60.263430930787543+0j)), (18.0, (63.808338632598563+0j))]\n",
        "\n",
        "C: (l,m) = (1,0)\n",
        "[(2.0, (-2.0466534158929779+0j)), (3.0, (-2.046653415892977+0j)), (4.0, (-2.0466534158929766+0j)), (5.0, (-2.0466534158929783+0j)), (6.0, (-2.0466534158929792+0j)), (7.0, (-2.0466534158929761+0j)), (8.0, (-2.0466534158929757+0j)), (9.0, (-2.0466534158929766+0j)), (10.0, (-2.0466534158929783+0j)), (11.0, (-2.0466534158929806+0j)), (12.0, (-2.0466534158929717+0j)), (13.0, (-2.0466534158929774+0j)), (14.0, (-2.0466534158929801+0j)), (15.0, (-2.0466534158929726+0j)), (16.0, (-2.0466534158929828+0j)), (17.0, (-2.0466534158929761+0j)), (18.0, (-2.0466534158929761+0j))]\n"
       ]
      }
     ],
     "prompt_number": 12
    },
    {
     "cell_type": "markdown",
     "metadata": {},
     "source": [
      "As we see, the results above for `Waveform C` are as expected."
     ]
    },
    {
     "cell_type": "heading",
     "level": 1,
     "metadata": {},
     "source": [
      "Test new Modes and DataGrid functions against spinsfast"
     ]
    },
    {
     "cell_type": "markdown",
     "metadata": {},
     "source": [
      "The first test is quite simple: just evaluate the `DataGrid` constructors using `spinsfast` (which can only do equi-angular grids) and using my `SWSH` functions with an un-boosted grid.  The results show no signficant differences.  This took quite a lot of work, including converting from stereographic coordinates, which were unable to handle the poles properly."
     ]
    },
    {
     "cell_type": "code",
     "collapsed": false,
     "input": [
      "import GWFrames\n",
      "import spinsfast\n",
      "\n",
      "for spinweight in range(-6,7) :\n",
      "    random.seed(37)\n",
      "    alm = random.random_sample(spinsfast.N_lm(8)) + 1j*random.random_sample(spinsfast.N_lm(8))\n",
      "    alm[:spinsfast.N_lm(abs(spinweight))] = 0.0j;\n",
      "    M = GWFrames.Modes(spinweight, alm)\n",
      "    G1 = GWFrames.DataGrid(M)\n",
      "    G2 = GWFrames.DataGrid(M, GWFrames.vectord([0.0,0.0,0.0]))\n",
      "    N_phi = G1.N_phi()\n",
      "    d1 = array(G1.Data())\n",
      "    d2 = array(G2.Data())\n",
      "    absdiff = abs(d1-d2)\n",
      "\n",
      "    print spinweight, '\\t', absdiff.max()"
     ],
     "language": "python",
     "metadata": {},
     "outputs": [
      {
       "output_type": "stream",
       "stream": "stdout",
       "text": [
        "-6 \t5.76461322488e-15\n",
        "-5 \t7.1607233461e-15\n",
        "-4 \t8.0619317176e-15\n",
        "-3 \t6.8477004565e-15\n",
        "-2 \t7.47815770155e-15\n",
        "-1 \t8.881784197e-15\n",
        "0 \t9.07127627051e-15\n",
        "1 \t1.11022302463e-14\n",
        "2 \t1.19016736762e-14\n",
        "3 \t1.2809491336e-14\n",
        "4 \t9.83284113042e-15\n",
        "5 \t1.01462479829e-14\n",
        "6 \t8.64834519294e-15\n"
       ]
      }
     ],
     "prompt_number": 11
    },
    {
     "cell_type": "markdown",
     "metadata": {},
     "source": [
      "Next, just to make sure the arguments are being passed correctly, we do the same thing, but boost the second constructor.  We expect to find large differences, and are not disappointed."
     ]
    },
    {
     "cell_type": "code",
     "collapsed": false,
     "input": [
      "import GWFrames\n",
      "import spinsfast\n",
      "\n",
      "for spinweight in range(-6,7) :\n",
      "    random.seed(37)\n",
      "    alm = random.random_sample(spinsfast.N_lm(8)) + 1j*random.random_sample(spinsfast.N_lm(8))\n",
      "    alm[:spinsfast.N_lm(abs(spinweight))] = 0.0j;\n",
      "    M = GWFrames.Modes(spinweight, alm)\n",
      "    G1 = GWFrames.DataGrid(M)\n",
      "    G2 = GWFrames.DataGrid(M, GWFrames.vectord([0.5,0.0,0.0]))\n",
      "    N_phi = G1.N_phi()\n",
      "    d1 = array(G1.Data())\n",
      "    d2 = array(G2.Data())\n",
      "    absdiff = abs(d1-d2)\n",
      "\n",
      "    print spinweight, '\\t', absdiff.max()"
     ],
     "language": "python",
     "metadata": {},
     "outputs": [
      {
       "output_type": "stream",
       "stream": "stdout",
       "text": [
        "-6 \t4.0203537563\n",
        "-5 \t3.56869503355\n",
        "-4 \t4.2992469286\n",
        "-3 \t4.36095299317\n",
        "-2 \t4.90945511585\n",
        "-1 \t4.28711698414\n",
        "0 \t4.2965879768\n",
        "1 \t4.8134445673\n",
        "2 \t4.8214841811\n",
        "3 \t4.25049055556\n",
        "4 \t4.75300763725\n",
        "5 \t3.85321901428\n",
        "6 \t3.67629451949\n"
       ]
      }
     ],
     "prompt_number": 13
    }
   ],
   "metadata": {}
  }
 ]
}