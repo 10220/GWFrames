{
 "metadata": {
  "name": "Supertranslations"
 },
 "nbformat": 3,
 "nbformat_minor": 0,
 "worksheets": [
  {
   "cells": [
    {
     "cell_type": "markdown",
     "metadata": {},
     "source": [
      "To test the supertranslations code we first need a nontrivial analytic `Waveform` object.  The easiest will be just a simple linearly increasing function of time.  In fact, we might as well make the data equal to the time.\n",
      "\n",
      "Next, we need analytic supertranslations to apply.  The first will be the fairly trivial constant offset, where the value of the time-translated `Waveform` should be easy to predict.  The second will be a simple translation.  "
     ]
    },
    {
     "cell_type": "code",
     "collapsed": false,
     "input": [
      "import numpy as np\n",
      "import GWFrames\n",
      "T = np.array([0., 1., 2.])\n",
      "LM = [[l,m] for l in range(0,9) for m in range(-l,l+1)]\n",
      "Data = zeros((len(LM), len(T)), dtype=complex)\n",
      "Data[0,:] = sqrt(4*pi)*T[:]  # Note that the factor of sqrt(4*pi) is necessary due to the normalization of the spherical harmonics.\n",
      "\n",
      "A = GWFrames.Waveform(T, LM, Data)\n"
     ],
     "language": "python",
     "metadata": {},
     "outputs": [],
     "prompt_number": 5
    },
    {
     "cell_type": "code",
     "collapsed": false,
     "input": [],
     "language": "python",
     "metadata": {},
     "outputs": []
    }
   ],
   "metadata": {}
  }
 ]
}