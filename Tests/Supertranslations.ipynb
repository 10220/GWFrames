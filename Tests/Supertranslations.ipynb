{
 "metadata": {
  "name": ""
 },
 "nbformat": 3,
 "nbformat_minor": 0,
 "worksheets": [
  {
   "cells": [
    {
     "cell_type": "markdown",
     "metadata": {},
     "source": [
      "To test the supertranslations code we first need a nontrivial analytic `Waveform` object.  The easiest will be just a simple linearly increasing function of time.  In fact, we might as well make the data equal to the time.  We have $f(t, \\vartheta, \\varphi) = t$."
     ]
    },
    {
     "cell_type": "code",
     "collapsed": false,
     "input": [
      "import numpy as np\n",
      "import GWFrames\n",
      "\n",
      "# Construct the Waveform\n",
      "T = np.linspace(0., 19., num=20)\n",
      "LM = [[l,m] for l in range(0,9) for m in range(-l,l+1)]\n",
      "Data = np.zeros((len(LM), len(T)), dtype=complex)\n",
      "Data[0,:] = np.sqrt(4*np.pi)*T[:]  # Note: the factor of sqrt(4*pi) is needed due to normalization of the spherical harmonics.\n",
      "A = GWFrames.Waveform(T, LM, Data)\n",
      "A.SetSpinWeight(0)\n",
      "A.SetFrameType(GWFrames.Inertial)"
     ],
     "language": "python",
     "metadata": {},
     "outputs": [],
     "prompt_number": 1
    },
    {
     "cell_type": "markdown",
     "metadata": {},
     "source": [
      "Next, we need analytic supertranslations to apply.  The first will be the fairly trivial constant offset by 1 time unit.  The value of the time-translated `Waveform` should simply be advanced by 1.  Note that the factor of $\\sqrt{4\\, \\pi}$ is present because we are giving the time offset in terms of the spherical-harmonic components, rather than the real space components."
     ]
    },
    {
     "cell_type": "code",
     "collapsed": false,
     "input": [
      "# Construct the simplest supertranslation\n",
      "gamma = [0.+0.j for i in range(len(LM))] # zeros((len(LM), 1), dtype=complex)\n",
      "gamma[0] = np.sqrt(4*np.pi)*1.0\n",
      "B = A.ApplySupertranslation(GWFrames.vectorc(gamma))\n",
      "print [(A.T(i), j) for i,j in enumerate(A.Data(0))]\n",
      "print [(B.T(i), j) for i,j in enumerate(B.Data(0))]\n"
     ],
     "language": "python",
     "metadata": {},
     "outputs": [
      {
       "output_type": "stream",
       "stream": "stdout",
       "text": [
        "[(0.0, 0j), (1.0, (3.5449077018110318+0j)), (2.0, (7.0898154036220635+0j)), (3.0, (10.634723105433096+0j)), (4.0, (14.179630807244127+0j)), (5.0, (17.724538509055158+0j)), (6.0, (21.269446210866192+0j)), (7.0, (24.814353912677223+0j)), (8.0, (28.359261614488254+0j)), (9.0, (31.904169316299285+0j)), (10.0, (35.449077018110316+0j)), (11.0, (38.99398471992135+0j)), (12.0, (42.538892421732385+0j)), (13.0, (46.083800123543412+0j)), (14.0, (49.628707825354446+0j)), (15.0, (53.173615527165474+0j)), (16.0, (56.718523228976508+0j)), (17.0, (60.263430930787543+0j)), (18.0, (63.80833863259857+0j)), (19.0, (67.353246334409604+0j))]\n",
        "[(0.0, (3.5449077018110309+0j)), (1.0, (7.0898154036220618+0j)), (2.0, (10.634723105433096+0j)), (3.0, (14.179630807244124+0j)), (4.0, (17.724538509055158+0j)), (5.0, (21.269446210866192+0j)), (6.0, (24.814353912677223+0j)), (7.0, (28.359261614488247+0j)), (8.0, (31.904169316299281+0j)), (9.0, (35.449077018110316+0j)), (10.0, (38.993984719921343+0j)), (11.0, (42.538892421732385+0j)), (12.0, (46.083800123543412+0j)), (13.0, (49.628707825354446+0j)), (14.0, (53.173615527165474+0j)), (15.0, (56.718523228976494+0j)), (16.0, (60.263430930787543+0j)), (17.0, (63.808338632598563+0j)), (18.0, (67.353246334409604+0j))]\n"
       ]
      }
     ],
     "prompt_number": 2
    },
    {
     "cell_type": "markdown",
     "metadata": {},
     "source": [
      "As we can see, the times remained the same, but the values shifted by exchanging places in the time.  So the time translation works correctly.\n",
      "\n",
      "Next, we supply a simple translation by 1 unit in the *positive* $z$ direction.  The requirement that $\\gamma(\\vartheta, \\varphi)$ be real translates into the relation $\\gamma^{\\ell,m} = \\bar{\\gamma}^{\\ell,-m}$.  Note that the factor of $\\sqrt{4\\, \\pi/3}$ is present because of the normalization of the spherical harmonics.  Also note that a spatial translation by +1 unit is equivalent to a supertranslation by -1 unit.  With this choice, we have $\\gamma(\\vartheta, \\varphi) = -\\cos \\vartheta$, so that $f\\big(t+\\gamma(\\vartheta, \\varphi), \\vartheta, \\varphi\\big) = t-\\cos \\vartheta$.  Only the average and $(\\ell,m)=(1,0)$ modes are present in the result; the average should not be affected, while the $(\\ell,m)=(1,0)$ mode should correspond to a simple cosine, which is a mode of weight $-\\sqrt{4\\pi/3}=-2.0466534158929779$.\n",
      "\n",
      "Note also that the time axis should not change, except that we need to cut it down so that all data can be interpolated.  In principle, this means that time should start at 1.0 units.  Because of finite precision, however, the algorithm selects the next time step \u2013 which is 2.0."
     ]
    },
    {
     "cell_type": "code",
     "collapsed": false,
     "input": [
      "gamma = [0.0+0.0j for i in range(len(LM))] # zeros((len(LM), 1), dtype=complex)\n",
      "gamma[0] = np.sqrt(4*np.pi)*(0.0 + 0.0j)\n",
      "gamma[1] = np.sqrt(4*np.pi/3)*(0.0 + 0.0j)\n",
      "gamma[2] = np.sqrt(4*np.pi/3)*(-1.0 + 0.0j)\n",
      "gamma[3] = np.sqrt(4*np.pi/3)*(0.0 + 0.0j)\n",
      "C = A.ApplySupertranslation(GWFrames.vectorc(gamma))\n",
      "print(\"\\nA: (l,m) = (0,0)\")\n",
      "print [(A.T(i), j) for i,j in enumerate(A.Data(0))]\n",
      "print(\"\\nC: (l,m) = (0,0)\")\n",
      "print [(C.T(i), j) for i,j in enumerate(C.Data(0))]\n",
      "print(\"\\nC: (l,m) = (1,0)\")\n",
      "print [(C.T(i), j) for i,j in enumerate(C.Data(2))]\n"
     ],
     "language": "python",
     "metadata": {},
     "outputs": [
      {
       "output_type": "stream",
       "stream": "stdout",
       "text": [
        "\n",
        "A: (l,m) = (0,0)\n",
        "[(0.0, 0j), (1.0, (3.5449077018110318+0j)), (2.0, (7.0898154036220635+0j)), (3.0, (10.634723105433096+0j)), (4.0, (14.179630807244127+0j)), (5.0, (17.724538509055158+0j)), (6.0, (21.269446210866192+0j)), (7.0, (24.814353912677223+0j)), (8.0, (28.359261614488254+0j)), (9.0, (31.904169316299285+0j)), (10.0, (35.449077018110316+0j)), (11.0, (38.99398471992135+0j)), (12.0, (42.538892421732385+0j)), (13.0, (46.083800123543412+0j)), (14.0, (49.628707825354446+0j)), (15.0, (53.173615527165474+0j)), (16.0, (56.718523228976508+0j)), (17.0, (60.263430930787543+0j)), (18.0, (63.80833863259857+0j)), (19.0, (67.353246334409604+0j))]\n",
        "\n",
        "C: (l,m) = (0,0)\n",
        "[(2.0, (7.0898154036220635+0j)), (3.0, (10.634723105433094+0j)), (4.0, (14.179630807244125+0j)), (5.0, (17.724538509055158+0j)), (6.0, (21.269446210866192+0j)), (7.0, (24.81435391267722+0j)), (8.0, (28.359261614488251+0j)), (9.0, (31.904169316299274+0j)), (10.0, (35.449077018110309+0j)), (11.0, (38.993984719921343+0j)), (12.0, (42.538892421732385+0j)), (13.0, (46.083800123543412+0j)), (14.0, (49.628707825354439+0j)), (15.0, (53.173615527165474+0j)), (16.0, (56.718523228976508+0j)), (17.0, (60.263430930787543+0j)), (18.0, (63.808338632598563+0j))]\n",
        "\n",
        "C: (l,m) = (1,0)\n",
        "[(2.0, (-2.0466534158929779+0j)), (3.0, (-2.046653415892977+0j)), (4.0, (-2.0466534158929766+0j)), (5.0, (-2.0466534158929783+0j)), (6.0, (-2.0466534158929792+0j)), (7.0, (-2.0466534158929761+0j)), (8.0, (-2.0466534158929757+0j)), (9.0, (-2.0466534158929766+0j)), (10.0, (-2.0466534158929783+0j)), (11.0, (-2.0466534158929806+0j)), (12.0, (-2.0466534158929717+0j)), (13.0, (-2.0466534158929774+0j)), (14.0, (-2.0466534158929801+0j)), (15.0, (-2.0466534158929726+0j)), (16.0, (-2.0466534158929828+0j)), (17.0, (-2.0466534158929761+0j)), (18.0, (-2.0466534158929761+0j))]\n"
       ]
      }
     ],
     "prompt_number": 12
    },
    {
     "cell_type": "markdown",
     "metadata": {},
     "source": [
      "As we see, the results above for `Waveform C` are as expected."
     ]
    },
    {
     "cell_type": "heading",
     "level": 1,
     "metadata": {},
     "source": [
      "Test new Modes and DataGrid functions against spinsfast"
     ]
    },
    {
     "cell_type": "markdown",
     "metadata": {},
     "source": [
      "The first test is quite simple: just evaluate the `DataGrid` constructors using `spinsfast` (which can only do equi-angular grids) and using my `SWSH` functions with an un-boosted grid.  The results show no signficant differences.  This took quite a lot of work, including converting from stereographic coordinates, which were unable to handle the poles properly."
     ]
    },
    {
     "cell_type": "code",
     "collapsed": false,
     "input": [
      "import GWFrames\n",
      "import spinsfast\n",
      "\n",
      "for spinweight in range(-6,7) :\n",
      "    random.seed(37)\n",
      "    alm = random.random_sample(spinsfast.N_lm(8)) + 1j*random.random_sample(spinsfast.N_lm(8))\n",
      "    alm[:spinsfast.N_lm(abs(spinweight))] = 0.0j;\n",
      "    M = GWFrames.Modes(spinweight, alm)\n",
      "    G1 = GWFrames.DataGrid(M)\n",
      "    G2 = GWFrames.DataGrid(M, GWFrames.vectord([0.0,0.0,0.0]))\n",
      "    N_phi = G1.N_phi()\n",
      "    d1 = array(G1.Data())\n",
      "    d2 = array(G2.Data())\n",
      "    absdiff = abs(d1-d2)\n",
      "\n",
      "    print spinweight, '\\t', absdiff.max()"
     ],
     "language": "python",
     "metadata": {},
     "outputs": [
      {
       "output_type": "stream",
       "stream": "stdout",
       "text": [
        "-6 \t5.76461322488e-15\n",
        "-5 \t7.1607233461e-15\n",
        "-4 \t8.0619317176e-15\n",
        "-3 \t6.8477004565e-15\n",
        "-2 \t7.47815770155e-15\n",
        "-1 \t8.881784197e-15\n",
        "0 \t9.07127627051e-15\n",
        "1 \t1.11022302463e-14\n",
        "2 \t1.19016736762e-14\n",
        "3 \t1.2809491336e-14\n",
        "4 \t9.83284113042e-15\n",
        "5 \t1.01462479829e-14\n",
        "6 \t8.64834519294e-15\n"
       ]
      }
     ],
     "prompt_number": 10
    },
    {
     "cell_type": "markdown",
     "metadata": {},
     "source": [
      "Next, just to make sure the arguments are being passed correctly, we do the same thing, but boost the second constructor.  We expect to find large differences, and are not disappointed."
     ]
    },
    {
     "cell_type": "code",
     "collapsed": false,
     "input": [
      "import GWFrames\n",
      "import spinsfast\n",
      "\n",
      "for spinweight in range(-6,7) :\n",
      "    random.seed(37)\n",
      "    alm = random.random_sample(spinsfast.N_lm(8)) + 1j*random.random_sample(spinsfast.N_lm(8))\n",
      "    alm[:spinsfast.N_lm(abs(spinweight))] = 0.0j;\n",
      "    M = GWFrames.Modes(spinweight, alm)\n",
      "    G1 = GWFrames.DataGrid(M)\n",
      "    G2 = GWFrames.DataGrid(M, GWFrames.vectord([0.5,0.0,0.0]))\n",
      "    N_phi = G1.N_phi()\n",
      "    d1 = array(G1.Data())\n",
      "    d2 = array(G2.Data())\n",
      "    absdiff = abs(d1-d2)\n",
      "\n",
      "    print spinweight, '\\t', absdiff.max()"
     ],
     "language": "python",
     "metadata": {},
     "outputs": [
      {
       "output_type": "stream",
       "stream": "stdout",
       "text": [
        "-6 \t4.0203537563\n",
        "-5 \t3.56869503355\n",
        "-4 \t4.2992469286\n",
        "-3 \t4.36095299317\n",
        "-2 \t4.90945511585\n",
        "-1 \t4.28711698414\n",
        "0 \t4.2965879768\n",
        "1 \t4.8134445673\n",
        "2 \t4.8214841811\n",
        "3 \t4.25049055556\n",
        "4 \t4.75300763725\n",
        "5 \t3.85321901428\n",
        "6 \t3.67629451949\n"
       ]
      }
     ],
     "prompt_number": 13
    },
    {
     "cell_type": "heading",
     "level": 1,
     "metadata": {},
     "source": [
      "BMS transform Schwarzschild"
     ]
    },
    {
     "cell_type": "code",
     "collapsed": false,
     "input": [
      "import numpy as np\n",
      "from mpmath import chop, nstr\n",
      "import spinsfast\n",
      "import GWFrames\n",
      "\n",
      "v = array([0.0,0.0,0.1])\n",
      "V = GWFrames.vectord(v)\n",
      "beta = sqrt(dot(v,v))\n",
      "gamma = 1./sqrt(1.-beta**2)\n",
      "\n",
      "# Basic sizes for our Waveforms\n",
      "T = np.linspace(-10., 10., num=21)\n",
      "LM = [[l,m] for l in range(0,9) for m in range(-l,l+1)]\n",
      "\n",
      "# Set up a Waveform full of zeros\n",
      "Data = np.zeros((len(LM), len(T)), dtype=complex)\n",
      "Zero = GWFrames.Waveform(T, LM, Data)\n",
      "Zero.SetSpinWeight(0)\n",
      "Zero.SetFrameType(GWFrames.Inertial)\n",
      "\n",
      "# Set all the relevant quantities to this\n",
      "psi0 = Zero\n",
      "psi1 = Zero\n",
      "psi3 = Zero\n",
      "psi4 = Zero\n",
      "sigma = Zero\n",
      "\n",
      "# Now make psi2 represent Schwarzschild with M=1\n",
      "psi2 = GWFrames.Waveform(Zero)\n",
      "for i in range(len(T)) :\n",
      "    psi2.SetData(0, i, np.sqrt(4*np.pi))\n",
      "    # Note: sqrt(4*pi) is needed due to normalization of the spherical harmonics.\n",
      "    \n",
      "# And bundle it all up in a Scri object\n",
      "scri = GWFrames.Scri(psi0, psi1, psi2, psi3, psi4, sigma)\n",
      "\n",
      "# Make up a supertranslation\n",
      "alm_delta = np.zeros((len(LM),), dtype=complex)\n",
      "spinweight_delta = 0\n",
      "delta = GWFrames.Modes(spinweight_delta, alm_delta)\n",
      "\n",
      "# Now apply it to slice t=0.0 of the data\n",
      "BMSTransformedSlice = scri.BMSTransformation(0.0, V, delta)"
     ],
     "language": "python",
     "metadata": {},
     "outputs": [],
     "prompt_number": 11
    },
    {
     "cell_type": "markdown",
     "metadata": {},
     "source": [
      "A few observations about what we can expect:\n",
      "\n",
      "  - For pure boosts, only $\\psi_2$ should be nonzero at $u=0$.  We should have ${\\psi_2}' = \\gamma^3 (1-\\vec{v} \\cdot \\hat{n})^3 \\psi_2$.\n",
      "  - In all cases, the $\\ell=0$ modes of $\\psi_0$ and $\\psi_1$ should be zero, as should the $\\ell=1$ modes of $\\psi_0$.\n",
      "  - In all cases $\\psi_3$ and $\\psi_4$ should be zero."
     ]
    },
    {
     "cell_type": "code",
     "collapsed": false,
     "input": [
      "Component = ['psi0', 'psi1', 'psi2', 'psi3', 'psi4', 'sigma', 'sigmadot']\n",
      "[[Component[j],[[spinsfast.ind_lm(i, 0).tolist(),float(nstr(chop(d)))]\n",
      "                for i,d in enumerate(BMSTransformedSlice[j].Data()) if abs(d)>1e-14]] for j in range(7)]"
     ],
     "language": "python",
     "metadata": {},
     "outputs": [
      {
       "metadata": {},
       "output_type": "pyout",
       "prompt_number": 12,
       "text": [
        "[['psi0', []],\n",
        " ['psi1', []],\n",
        " ['psi2',\n",
        "  [[[0, 0], 3.56277],\n",
        "   [[1, 0], -0.617089],\n",
        "   [[2, 0], 0.0638241],\n",
        "   [[3, 0], -0.00540443],\n",
        "   [[4, 0], 0.000409407],\n",
        "   [[5, 0], -2.88676e-05],\n",
        "   [[6, 0], 1.9357e-06],\n",
        "   [[7, 0], -1.25052e-07],\n",
        "   [[8, 0], 7.84972e-09]]],\n",
        " ['psi3', []],\n",
        " ['psi4', []],\n",
        " ['sigma', []],\n",
        " ['sigmadot', []]]"
       ]
      }
     ],
     "prompt_number": 12
    },
    {
     "cell_type": "code",
     "collapsed": false,
     "input": [
      "print(nstr(chop(BMSTransformedSlice.FourMomentum()),n=17))\n",
      "print(BMSTransformedSlice.Mass())\n",
      "print((gamma, -gamma*v[0], -gamma*v[1], -gamma*v[2]))"
     ],
     "language": "python",
     "metadata": {},
     "outputs": [
      {
       "output_type": "stream",
       "stream": "stdout",
       "text": [
        "[1.0050378152592121, 0.0, 0.0, -0.10050378152592124]\n",
        "1.0\n",
        "(1.0050378152592121, -0, -0, -0.10050378152592121)\n"
       ]
      }
     ],
     "prompt_number": 13
    },
    {
     "cell_type": "code",
     "collapsed": false,
     "input": [
      "from __future__ import division\n",
      "import sympy\n",
      "theta, phi, b, g = sympy.symbols('theta phi b g')\n",
      "oneOverK = g*(1-b*sympy.cos(theta))\n",
      "oneOverKCubed = oneOverK**3\n",
      "integral1 = sympy.simplify(2*sympy.pi*sympy.integrate(oneOverK*sympy.sin(theta), (theta, 0, sympy.pi)) / (4*sympy.pi))\n",
      "integral3 = sympy.simplify(2*sympy.pi*sympy.integrate(oneOverKCubed*sympy.sin(theta), (theta, 0, sympy.pi)) / (4*sympy.pi))\n",
      "print integral1\n",
      "print integral3"
     ],
     "language": "python",
     "metadata": {},
     "outputs": [
      {
       "output_type": "stream",
       "stream": "stdout",
       "text": [
        "g\n",
        "g**3*(b**2 + 1)\n"
       ]
      }
     ],
     "prompt_number": 14
    },
    {
     "cell_type": "markdown",
     "metadata": {},
     "source": [
      "But, we have $\\beta^2 = 1 - 1/\\gamma^2$, so `integral3` is precisely $-\\gamma$."
     ]
    },
    {
     "cell_type": "markdown",
     "metadata": {},
     "source": [
      "Unfortunately, this analysis is not so easy for $\\ell>0$, because we also have to account for the fact that the grid gets moved around.  What we need to do is evaluate the $K$ factors on different coordinates, which account for this motion.  In particular, for a boost along the positive $z$ axis, the angle $\\theta'$ at which to evaluate when $\\theta$ is desired is given by\n",
      "\\begin{equation}\n",
      "\\theta' = 2 \\arctan \\left(e^{-\\alpha} \\tan \\frac{\\theta}{2} \\right) = 2 \\arctan \\left(\\sqrt{\\frac{c-v}{c+v}} \\tan \\frac{\\theta}{2} \\right)~.\n",
      "\\end{equation}\n",
      "Thus, we do the following:"
     ]
    },
    {
     "cell_type": "code",
     "collapsed": false,
     "input": [
      "from __future__ import division\n",
      "import sympy\n",
      "from mpmath import quad\n",
      "theta, phi, b, g = sympy.symbols('theta phi b g')\n",
      "oneOverK = lambda theta : (g*(1-b*sympy.cos(2*sympy.atan(sympy.sqrt((1-b)/(1+b))*sympy.tan(theta/2))))).subs({b:beta,g:gamma})\n",
      "oneOverKCubed = lambda theta : oneOverK(theta)**3\n",
      "integral3_10 = sympy.simplify(2*sympy.pi*quad(lambda theta: oneOverKCubed(theta)*sympy.cos(theta)*sympy.sin(theta),\n",
      "                                              [0, pi]) / (4*sympy.pi))\n",
      "print integral3_10"
     ],
     "language": "python",
     "metadata": {},
     "outputs": [
      {
       "output_type": "stream",
       "stream": "stdout",
       "text": [
        "-0.100503781525921\n"
       ]
      }
     ],
     "prompt_number": 15
    },
    {
     "cell_type": "markdown",
     "metadata": {},
     "source": [
      "This result is precisely what we expect, as it is the $z$ component of the Bondi four-momentum found above.  (Actually, I played a little sleight of hand with the normalizations to get this result, but it works out.)"
     ]
    },
    {
     "cell_type": "markdown",
     "metadata": {},
     "source": [
      "Questions:\n",
      "\n",
      "  - Why does $\\psi_2$ get modes up to $\\ell=8$ when $1/K^3$ only has modes up to $\\ell=3$?  Because the grid it's evaluated on is boosted, so it's deformed, so it gets all kinds of contributions.\n",
      "  - What's with the incorrect normalization of the mass?  Moreschi has an extra factor of $1/\\sqrt{4\\pi}$; the discrepancy is fixed now."
     ]
    },
    {
     "cell_type": "heading",
     "level": 1,
     "metadata": {},
     "source": [
      "Boost in general direction"
     ]
    },
    {
     "cell_type": "code",
     "collapsed": false,
     "input": [
      "import numpy as np\n",
      "from mpmath import chop, nstr\n",
      "import spinsfast\n",
      "import GWFrames\n",
      "\n",
      "# Basic sizes for our Waveforms\n",
      "T = np.linspace(-10., 10., num=21)\n",
      "LM = [[l,m] for l in range(0,9) for m in range(-l,l+1)]\n",
      "\n",
      "# Set up a Waveform full of zeros\n",
      "Data = np.zeros((len(LM), len(T)), dtype=complex)\n",
      "Zero = GWFrames.Waveform(T, LM, Data)\n",
      "Zero.SetSpinWeight(0)\n",
      "Zero.SetFrameType(GWFrames.Inertial)\n",
      "\n",
      "# Set everything but psi2 to zero\n",
      "psi0 = Zero\n",
      "psi1 = Zero\n",
      "psi3 = Zero\n",
      "psi4 = Zero\n",
      "sigma = Zero\n",
      "\n",
      "# Set psi2 to Schwarzschild with M=1\n",
      "psi2 = GWFrames.Waveform(Zero)\n",
      "for i in range(len(T)) :\n",
      "    psi2.SetData(0, i, np.sqrt(4*np.pi))\n",
      "    # Note: sqrt(4*pi) is needed due to normalization of the spherical harmonics.\n",
      "    \n",
      "# And bundle it all up in a Scri object\n",
      "scri = GWFrames.Scri(psi0, psi1, psi2, psi3, psi4, sigma)\n",
      "\n",
      "# Make up a boost\n",
      "v = array([0.4,0.2,0.1])\n",
      "V = GWFrames.vectord(v)\n",
      "beta = sqrt(dot(v,v))\n",
      "gamma = 1./sqrt(1.-beta**2)\n",
      "\n",
      "# Make up a supertranslation\n",
      "alm_delta = np.zeros((len(LM),), dtype=complex)\n",
      "spinweight_delta = 0\n",
      "delta = GWFrames.Modes(spinweight_delta, alm_delta)\n",
      "\n",
      "# Now apply the boost and supertranslation to slice t=0.0 of the data\n",
      "BMSTransformedSlice = scri.BMSTransformation(0.0, V, delta)\n",
      "\n",
      "print(nstr(chop(BMSTransformedSlice.FourMomentum()),n=17))\n",
      "print(BMSTransformedSlice.Mass())\n",
      "print((gamma, -gamma*v[0], -gamma*v[1], -gamma*v[2]))"
     ],
     "language": "python",
     "metadata": {},
     "outputs": [
      {
       "output_type": "stream",
       "stream": "stdout",
       "text": [
        "[1.1250879009900934, -0.45003515867054084, -0.22501758387190277, -0.11250879010012099]\n",
        "1.00000000001\n",
        "(1.125087900926024, -0.45003516037040958, -0.22501758018520479, -0.1125087900926024)\n"
       ]
      }
     ],
     "prompt_number": 16
    },
    {
     "cell_type": "heading",
     "level": 1,
     "metadata": {},
     "source": [
      "Simple translation"
     ]
    },
    {
     "cell_type": "code",
     "collapsed": false,
     "input": [
      "import numpy as np\n",
      "from mpmath import chop, nstr\n",
      "import spinsfast\n",
      "import GWFrames\n",
      "\n",
      "# Basic sizes for our Waveforms\n",
      "T = np.linspace(-10., 10., num=21)\n",
      "LM = [[l,m] for l in range(0,9) for m in range(-l,l+1)]\n",
      "\n",
      "# Set up a Waveform full of zeros\n",
      "Data = np.zeros((len(LM), len(T)), dtype=complex)\n",
      "Zero = GWFrames.Waveform(T, LM, Data)\n",
      "Zero.SetSpinWeight(0)\n",
      "Zero.SetFrameType(GWFrames.Inertial)\n",
      "\n",
      "# Set everything but psi2 to zero\n",
      "psi0 = Zero\n",
      "psi1 = Zero\n",
      "psi3 = Zero\n",
      "psi4 = Zero\n",
      "sigma = Zero\n",
      "\n",
      "# Set psi2 to Schwarzschild with M=1\n",
      "psi2 = GWFrames.Waveform(Zero)\n",
      "for i in range(len(T)) :\n",
      "    psi2.SetData(0, i, np.sqrt(4*np.pi))\n",
      "    # Note: sqrt(4*pi) is needed due to normalization of the spherical harmonics.\n",
      "    \n",
      "# And bundle it all up in a Scri object\n",
      "scri = GWFrames.Scri(psi0, psi1, psi2, psi3, psi4, sigma)\n",
      "\n",
      "# Make up a boost\n",
      "v = array([0.0,0.0,0.0])\n",
      "V = GWFrames.vectord(v)\n",
      "beta = sqrt(dot(v,v))\n",
      "gamma = 1./sqrt(1.-beta**2)\n",
      "\n",
      "# Make up a supertranslation\n",
      "alm_delta = np.zeros((len(LM),), dtype=complex)\n",
      "alm_delta[2] = 1.0\n",
      "spinweight_delta = 0\n",
      "delta = GWFrames.Modes(spinweight_delta, alm_delta)\n",
      "\n",
      "# Now apply the boost and supertranslation to slice t=0.0 of the data\n",
      "BMSTransformedSlice = scri.BMSTransformation(0.0, V, delta)\n",
      "\n",
      "print(nstr(chop(BMSTransformedSlice.FourMomentum()),n=17))\n",
      "print(BMSTransformedSlice.Mass())\n",
      "print((gamma, -gamma*v[0], -gamma*v[1], -gamma*v[2]))"
     ],
     "language": "python",
     "metadata": {},
     "outputs": [
      {
       "output_type": "stream",
       "stream": "stdout",
       "text": [
        "[0.99999999999999978, 0.0, 0.0, 0.0]\n",
        "1.0\n",
        "(1.0, -0, -0, -0)\n"
       ]
      }
     ],
     "prompt_number": 17
    },
    {
     "cell_type": "heading",
     "level": 1,
     "metadata": {},
     "source": [
      "General BMS translation"
     ]
    },
    {
     "cell_type": "code",
     "collapsed": false,
     "input": [
      "import numpy as np\n",
      "from mpmath import chop, nstr\n",
      "import spinsfast\n",
      "import GWFrames\n",
      "\n",
      "# Basic sizes for our Waveforms\n",
      "T = np.linspace(-10., 10., num=21)\n",
      "LM = [[l,m] for l in range(0,9) for m in range(-l,l+1)]\n",
      "\n",
      "# Set up a Waveform full of zeros\n",
      "Data = np.zeros((len(LM), len(T)), dtype=complex)\n",
      "Zero = GWFrames.Waveform(T, LM, Data)\n",
      "Zero.SetSpinWeight(0)\n",
      "Zero.SetFrameType(GWFrames.Inertial)\n",
      "\n",
      "# Set everything but psi2 to zero\n",
      "psi0 = Zero\n",
      "psi1 = Zero\n",
      "psi3 = Zero\n",
      "psi4 = Zero\n",
      "sigma = Zero\n",
      "\n",
      "# Set psi2 to Schwarzschild with M=1\n",
      "psi2 = GWFrames.Waveform(Zero)\n",
      "for i in range(len(T)) :\n",
      "    psi2.SetData(0, i, np.sqrt(4*np.pi))\n",
      "    # Note: sqrt(4*pi) is needed due to normalization of the spherical harmonics.\n",
      "    \n",
      "# And bundle it all up in a Scri object\n",
      "scri = GWFrames.Scri(psi0, psi1, psi2, psi3, psi4, sigma)\n",
      "\n",
      "# Make up a boost\n",
      "v = array([0.04,0.03,0.02])\n",
      "V = GWFrames.vectord(v)\n",
      "beta = sqrt(dot(v,v))\n",
      "gamma = 1./sqrt(1.-beta**2)\n",
      "\n",
      "# Make up a random supertranslation\n",
      "# Note that a supertranslation should be real, but this is complex; it doesn't seem to matter\n",
      "alm_delta = np.random.random((len(LM),))+1j*np.random.random((len(LM),))\n",
      "spinweight_delta = 0\n",
      "delta = GWFrames.Modes(spinweight_delta, alm_delta)\n",
      "\n",
      "# Now apply the boost and supertranslation to slice t=0.0 of the data\n",
      "BMSTransformedSlice = scri.BMSTransformation(0.0, V, delta)\n",
      "FourMomentum = BMSTransformedSlice.FourMomentum()\n",
      "Mass = BMSTransformedSlice.Mass()\n",
      "\n",
      "print(Mass)\n",
      "print(nstr(chop(FourMomentum),n=17))\n",
      "print([gamma, -gamma*v[0], -gamma*v[1], -gamma*v[2]])"
     ],
     "language": "python",
     "metadata": {},
     "outputs": [
      {
       "output_type": "stream",
       "stream": "stdout",
       "text": [
        "1.0\n",
        "[1.0014531613909525, -0.040058126455638103, -0.030043594841728565, -0.020029063227819069]\n",
        "[1.0014531613909528, -0.04005812645563811, -0.030043594841728583, -0.020029063227819055]\n"
       ]
      }
     ],
     "prompt_number": 5
    },
    {
     "cell_type": "code",
     "collapsed": false,
     "input": [
      "LM = [[l,m] for l in range(0,9) for m in range(-l,l+1)]\n",
      "alm = np.zeros((len(LM),), dtype=complex)\n",
      "s = 0\n"
     ],
     "language": "python",
     "metadata": {},
     "outputs": [],
     "prompt_number": 27
    },
    {
     "cell_type": "code",
     "collapsed": false,
     "input": [
      "import spinsfast\n",
      "\n",
      "lmax = 8\n",
      "Ntheta = 2*lmax+1\n",
      "Nphi = 2*lmax+1\n",
      "\n",
      "# These are the physical coordinates to be used below.\n",
      "theta = linspace(0, pi, num=Ntheta, endpoint=True)\n",
      "phi = linspace(0, 2*pi, num=Nphi, endpoint=False)\n",
      "\n",
      "# The function to be evaluated:\n",
      "f = array([[1.0+0j for p in phi] for t in theta])\n",
      "\n",
      "alm =  spinsfast.map2salm(f,0,lmax)\n",
      "\n",
      "[[spinsfast.ind_lm(i,lmax).tolist(),d] for i,d in enumerate(alm[:4])]"
     ],
     "language": "python",
     "metadata": {},
     "outputs": [
      {
       "metadata": {},
       "output_type": "pyout",
       "prompt_number": 117,
       "text": [
        "[[[0, 0], (3.5449077018110318+0j)],\n",
        " [[1, -1], (4.4532012746626621e-17+2.7267092879009026e-33j)],\n",
        " [[1, 0], 0j],\n",
        " [[1, 1], (-4.4532012746626621e-17+2.7267092879009026e-33j)]]"
       ]
      }
     ],
     "prompt_number": 117
    },
    {
     "cell_type": "code",
     "collapsed": false,
     "input": [
      "# 0: (alm[0]/sqrt(4*pi)).real\n",
      "# x: ((alm[1]-alm[3])/sqrt(8*pi/3)).real\n",
      "# y: (-1j*(alm[1]+alm[3])/sqrt(8*pi/3)).real\n",
      "# z: (alm[2]/sqrt(4*pi/3)).real"
     ],
     "language": "python",
     "metadata": {},
     "outputs": [
      {
       "metadata": {},
       "output_type": "pyout",
       "prompt_number": 120,
       "text": [
        "1.0"
       ]
      }
     ],
     "prompt_number": 120
    },
    {
     "cell_type": "heading",
     "level": 1,
     "metadata": {},
     "source": [
      "Testing the Moreschi algorithm"
     ]
    },
    {
     "cell_type": "code",
     "collapsed": false,
     "input": [
      "import numpy as np\n",
      "from mpmath import chop, nstr\n",
      "import spinsfast\n",
      "import GWFrames\n",
      "\n",
      "# Basic sizes for our Waveforms\n",
      "T = np.linspace(-100., 100., num=201)\n",
      "LM = [[l,m] for l in range(0,9) for m in range(-l,l+1)]\n",
      "\n",
      "# Set up a Waveform full of zeros\n",
      "Data = np.zeros((len(LM), len(T)), dtype=complex)\n",
      "Zero = GWFrames.Waveform(T, LM, Data)\n",
      "Zero.SetSpinWeight(0)\n",
      "Zero.SetFrameType(GWFrames.Inertial)\n",
      "\n",
      "# Set everything but psi2 to zero\n",
      "psi0 = Zero\n",
      "psi1 = Zero\n",
      "psi3 = Zero\n",
      "psi4 = Zero\n",
      "sigma = Zero\n",
      "\n",
      "# Set psi2 to Schwarzschild with M=1\n",
      "psi2 = GWFrames.Waveform(Zero)\n",
      "for i in range(len(T)) :\n",
      "    psi2.SetData(0, i, np.sqrt(4*np.pi))\n",
      "    # Note: sqrt(4*pi) is needed due to normalization of the spherical harmonics.\n",
      "    \n",
      "# And bundle it all up in a Scri object\n",
      "scri = GWFrames.Scri(psi0, psi1, psi2, psi3, psi4, sigma)\n",
      "\n",
      "# Make up a boost\n",
      "#v = array([0.,0.,0.])\n",
      "v = array([0.03,0.05,0.07])\n",
      "V = GWFrames.vectord(v)\n",
      "beta = sqrt(dot(v,v))\n",
      "gamma = 1./sqrt(1.-beta**2)\n",
      "\n",
      "# Make up a random supertranslation\n",
      "# Note that a supertranslation should be real, but this is complex; it doesn't seem to matter\n",
      "random_scale = 0.0\n",
      "alm_delta = random_scale*np.random.random((len(LM),))+1j*random_scale*np.random.random((len(LM),))\n",
      "spinweight_delta = 0\n",
      "for i,ellm in enumerate(LM) : # This loop makes delta real-valued\n",
      "    m = ellm[1]\n",
      "    if(m==0) :\n",
      "        alm_delta[i] = real(alm_delta[i])+0.0j\n",
      "    if(m>0) :\n",
      "        alm_delta[i] = ((-1)**ellm[1])*conj(alm_delta[i-2*ellm[1]])\n",
      "alm_delta[0] = 0.0j\n",
      "alm_delta[1] = 0.0j\n",
      "alm_delta[2] = 0.0j\n",
      "alm_delta[3] = 0.0j\n",
      "delta = GWFrames.Modes(spinweight_delta, alm_delta)\n",
      "\n",
      "# Now apply the boost and supertranslation to each slice of the data\n",
      "scri_boosted = GWFrames.Scri(scri)\n",
      "for i in range(1,scri.NTimes()-1) :\n",
      "    scri_boosted[i] = scri.BMSTransformation(T[i], V, delta)\n",
      "\n",
      "Psi = GWFrames.SuperMomenta(scri_boosted)\n",
      "\n",
      "OneOverK_out = GWFrames.Modes(4)\n",
      "OneOverK_out.SetEllMax(1)\n",
      "OneOverK_out[0] = sqrt(4*pi)+0.0j\n",
      "OneOverK_out[1] = 0.0j\n",
      "OneOverK_out[2] = 0.0j\n",
      "OneOverK_out[3] = 0.0j\n",
      "delta_out = GWFrames.Modes(spinweight_delta, np.zeros((len(LM),), dtype=complex))\n",
      "\n",
      "print(\"The input velocity is v={0}\".format(v))\n",
      "\n",
      "# Find the next step in the Moreschi iteration\n",
      "Psi.MoreschiIteration(OneOverK_out, delta_out)\n",
      "print(\"After 1 iteration, the velocity to cancel out the current velocity appears to be {0}\".format(GWFrames.vFromOneOverK(OneOverK_out)))\n",
      "\n",
      "# Now see what happens when we apply the boost from the last step, but no supertranslation\n",
      "delta_out = GWFrames.Modes(spinweight_delta, np.zeros((len(LM),), dtype=complex))\n",
      "Psi.MoreschiIteration(OneOverK_out, delta_out)\n",
      "print(\"After imposing the above boost, we get a remaining boost of {0}\".format(GWFrames.vFromOneOverK(OneOverK_out)))\n",
      "\n",
      "#for i in [1,2,3] :\n",
      "#    OneOverK_out[i] *= 0\n",
      "#OneOverK_out[0] = sqrt(4*pi)+0.0j\n",
      "Psi.MoreschiIteration(OneOverK_out, delta_out)\n",
      "print GWFrames.vFromOneOverK(OneOverK_out)"
     ],
     "language": "python",
     "metadata": {},
     "outputs": [
      {
       "output_type": "stream",
       "stream": "stdout",
       "text": [
        "The input velocity is v=[ 0.03  0.05  0.07]\n",
        "After 1 iteration, the velocity to cancel out the current velocity appears to be (-0.029999999999999964, -0.05, -0.07000000000000003)"
       ]
      },
      {
       "output_type": "stream",
       "stream": "stdout",
       "text": [
        "\n",
        "After imposing the above boost, we get a remaining boost of (2.499867772203194e-17, 2.6638930750013864e-17, 1.00496693060132e-16)"
       ]
      },
      {
       "output_type": "stream",
       "stream": "stdout",
       "text": [
        "\n",
        "(-0.029999999999999995, -0.049999999999999975, -0.07000000000000008)"
       ]
      },
      {
       "output_type": "stream",
       "stream": "stdout",
       "text": [
        "\n"
       ]
      }
     ],
     "prompt_number": 2
    },
    {
     "cell_type": "code",
     "collapsed": false,
     "input": [
      "[complex(nstr(chop(d, tol=1.e-7)).replace(' ','')) for d in delta_out.Data()]"
     ],
     "language": "python",
     "metadata": {},
     "outputs": [
      {
       "metadata": {},
       "output_type": "pyout",
       "prompt_number": 11,
       "text": [
        "[0j,\n",
        " 0j,\n",
        " 0j,\n",
        " 0j,\n",
        " (0.00312355-0.00585559j),\n",
        " (-0.00819861-0.0136644j),\n",
        " (-0.0102006+0j),\n",
        " (0.00819861-0.0136644j),\n",
        " (0.00312355+0.00585559j),\n",
        " (-5.79103e-05+2.89021e-07j),\n",
        " (-8.27604e-05+0.000155144j),\n",
        " (0.000113573+0.000189285j),\n",
        " (-7.48557e-06+0j),\n",
        " (-0.000113573+0.000189285j),\n",
        " (-8.27604e-05-0.000155144j),\n",
        " (5.79103e-05+2.89021e-07j),\n",
        " (-1.52915e-07-2.27948e-07j),\n",
        " (-9.30835e-07+0j),\n",
        " (-7.46687e-07+1.40004e-06j),\n",
        " (5.01081e-07+8.35134e-07j),\n",
        " (-9.82409e-07+0j),\n",
        " (-5.01081e-07+8.35134e-07j),\n",
        " (-7.46687e-07-1.40004e-06j),\n",
        " (9.30835e-07+0j),\n",
        " (-1.52915e-07+2.27948e-07j),\n",
        " 0j,\n",
        " 0j,\n",
        " 0j,\n",
        " 0j,\n",
        " 0j,\n",
        " 0j,\n",
        " 0j,\n",
        " 0j,\n",
        " 0j,\n",
        " 0j,\n",
        " 0j,\n",
        " 0j,\n",
        " 0j,\n",
        " 0j,\n",
        " 0j,\n",
        " 0j,\n",
        " 0j,\n",
        " 0j,\n",
        " 0j,\n",
        " 0j,\n",
        " 0j,\n",
        " 0j,\n",
        " 0j,\n",
        " 0j,\n",
        " 0j,\n",
        " 0j,\n",
        " 0j,\n",
        " 0j,\n",
        " 0j,\n",
        " 0j,\n",
        " 0j,\n",
        " 0j,\n",
        " 0j,\n",
        " 0j,\n",
        " 0j,\n",
        " 0j,\n",
        " 0j,\n",
        " 0j,\n",
        " 0j,\n",
        " 0j,\n",
        " 0j,\n",
        " 0j,\n",
        " 0j,\n",
        " 0j,\n",
        " 0j,\n",
        " 0j,\n",
        " 0j,\n",
        " 0j,\n",
        " 0j,\n",
        " 0j,\n",
        " 0j,\n",
        " 0j,\n",
        " 0j,\n",
        " 0j,\n",
        " 0j,\n",
        " 0j]"
       ]
      }
     ],
     "prompt_number": 11
    },
    {
     "cell_type": "heading",
     "level": 2,
     "metadata": {},
     "source": [
      "Composing BMS transformations"
     ]
    },
    {
     "cell_type": "markdown",
     "metadata": {},
     "source": [
      "The Moreschi algorithm's input is the BMS transformation of step $i$; it's output is the *additional* BMS transformation of step $i+1$.  So we need to compose the two to get the total BMS transformation of step $i+1$.  We have\n",
      "\\begin{equation}\n",
      "K_{i+1}\\left( K_i(u-\\delta_i) - \\delta_{i+1} \\right) = (K_{i+1} K_i) \\left(u - (K_i\\, \\delta_i + \\delta_{i+1})\\right)\n",
      "\\end{equation}\n",
      "That is, the total BMS transformation of step $i+1$ has its conformal factor given by the product of the two\n",
      "\\begin{equation}\n",
      "K_{i+1}\\, K_i~,\n",
      "\\end{equation}\n",
      "and its total supertranslation given by the first supertranslation boosted, plus the second: \n",
      "\\begin{equation}\n",
      "K_i\\, \\delta_i + \\delta_{i+1}~.\n",
      "\\end{equation}"
     ]
    },
    {
     "cell_type": "code",
     "collapsed": false,
     "input": [],
     "language": "python",
     "metadata": {},
     "outputs": []
    }
   ],
   "metadata": {}
  }
 ]
}