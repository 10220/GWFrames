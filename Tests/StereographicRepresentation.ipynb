{
 "metadata": {
  "name": "StereographicRepresentation"
 },
 "nbformat": 3,
 "nbformat_minor": 0,
 "worksheets": [
  {
   "cells": [
    {
     "cell_type": "code",
     "collapsed": false,
     "input": [
      "import numpy as np\n",
      "from mpl_toolkits.mplot3d import Axes3D\n",
      "import matplotlib.pyplot as plt\n",
      "import GWFrames"
     ],
     "language": "python",
     "metadata": {},
     "outputs": [],
     "prompt_number": 1
    },
    {
     "cell_type": "code",
     "collapsed": false,
     "input": [
      "N_theta = 17\n",
      "N_phi = 17\n",
      "theta = np.linspace(0, np.pi, num=N_theta)\n",
      "phi = np.linspace(0, 2*np.pi, num=N_phi)\n",
      "\n",
      "xs = [np.sin(t)*np.cos(p) for t in theta for p in phi]\n",
      "ys = [np.sin(t)*np.sin(p) for t in theta for p in phi]\n",
      "zs = [np.cos(t) for t in theta for p in phi]\n",
      "fig = plt.figure()\n",
      "ax = fig.add_subplot(111, projection='3d')\n",
      "ax.scatter(xs,ys,zs,c=zs);"
     ],
     "language": "python",
     "metadata": {},
     "outputs": [],
     "prompt_number": 2
    },
    {
     "cell_type": "code",
     "collapsed": false,
     "input": [
      "v = GWFrames.vectord([0.5,0.3,0.4])\n",
      "BoostedAngles = [GWFrames.Boost(GWFrames.StereographicCoordinateFromAngles(t,p), v) for t in theta for p in phi]\n",
      "xps = [BoostedAngle.X() for BoostedAngle in BoostedAngles]\n",
      "yps = [BoostedAngle.Y() for BoostedAngle in BoostedAngles]\n",
      "zps = [BoostedAngle.Z() for BoostedAngle in BoostedAngles]\n",
      "fig = plt.figure()\n",
      "ax = fig.add_subplot(111, projection='3d')\n",
      "ax.scatter(xps,yps,zps,c=zs);"
     ],
     "language": "python",
     "metadata": {},
     "outputs": [],
     "prompt_number": 5
    },
    {
     "cell_type": "code",
     "collapsed": false,
     "input": [],
     "language": "python",
     "metadata": {},
     "outputs": []
    }
   ],
   "metadata": {}
  }
 ]
}