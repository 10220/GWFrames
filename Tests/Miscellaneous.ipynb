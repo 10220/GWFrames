{
 "metadata": {
  "name": "Tests",
  "signature": "sha256:9ffc9ce24219345d522774e964bf63496a32a57f10619d3a96b1ca9098aa03ed"
 },
 "nbformat": 3,
 "nbformat_minor": 0,
 "worksheets": [
  {
   "cells": [
    {
     "cell_type": "heading",
     "level": 1,
     "metadata": {},
     "source": [
      "Pointwise operations"
     ]
    },
    {
     "cell_type": "code",
     "collapsed": false,
     "input": [
      "import GWFrames\n",
      "T = [0., 1., 2.]\n",
      "LM = [[l,m] for l in range(0,9) for m in range(-l,l+1)]\n",
      "Data = zeros((len(LM), len(T)), dtype=complex)\n",
      "Data[0,:] = sqrt(4*pi)+0.0j\n",
      "\n",
      "# The Waveform objects A and B will represent uniform values of 3.0 and 5.0 over the sphere.\n",
      "# Note that the factor of sqrt(4*pi) is necessary due to the normalization of the spherical harmonics.\n",
      "A = GWFrames.Waveform(T, LM, 3.0*Data)\n",
      "B = GWFrames.Waveform(T, LM, 5.0*Data)\n",
      "A.SetSpinWeight(0)\n",
      "B.SetSpinWeight(0)\n",
      "\n",
      "# C should represent a value of 8.0 over the sphere, which is equivalent to\n",
      "# the (l,m)=(0,0) mode having the value 8.0*sqrt(4*pi).\n",
      "C = A+B\n",
      "print C.Data(0,0)/sqrt(4*pi), \"should be (8+0j)\"\n",
      "\n",
      "# D should represent a value of -2.0 over the sphere, which is equivalent to\n",
      "# the (l,m)=(0,0) mode having the value -2.0*sqrt(4*pi).\n",
      "D = A-B\n",
      "print D.Data(0,0)/sqrt(4*pi), \"should be (-2+0j)\"\n",
      "\n",
      "# D should represent a value of 15.0 over the sphere, which is equivalent to\n",
      "# the (l,m)=(0,0) mode having the value 15.0*sqrt(4*pi).\n",
      "D = A*B\n",
      "print D.Data(0,0)/sqrt(4*pi), \"should be (15+0j)\"\n",
      "\n",
      "# E should represent a value of 0.6 over the sphere, which is equivalent to\n",
      "# the (l,m)=(0,0) mode having the value 0.6*sqrt(4*pi).\n",
      "E = A/B\n",
      "print E.Data(0,0)/sqrt(4*pi), \"should be (0.6+0j)\""
     ],
     "language": "python",
     "metadata": {},
     "outputs": [
      {
       "output_type": "stream",
       "stream": "stdout",
       "text": [
        "(8+0j) should be (8+0j)\n",
        "(-2+0j) should be (-2+0j)\n",
        "(15+0j)"
       ]
      },
      {
       "output_type": "stream",
       "stream": "stdout",
       "text": [
        " should be (15+0j)\n",
        "(0.6+0j) should be (0.6+0j)\n"
       ]
      }
     ],
     "prompt_number": 9
    },
    {
     "cell_type": "heading",
     "level": 1,
     "metadata": {},
     "source": [
      "$\\eth$ operators"
     ]
    },
    {
     "cell_type": "code",
     "collapsed": false,
     "input": [
      "import GWFrames\n",
      "T = [0., 1., 2.]\n",
      "LM = [[l,m] for l in range(0,9) for m in range(-l,l+1)]\n",
      "Data = zeros((len(LM), len(T)), dtype=complex)\n",
      "Data[0,:] = 2+3j # (l,m)=(0,0)\n",
      "Data[1,:] = 5+7j # (l,m)=(1,-1)\n",
      "Data[4,:] = 11+13j # (l,m)=(2,-2)\n",
      "Data[9,:] = 17+19j # (l,m)=(3,-3)\n",
      "\n",
      "A = GWFrames.Waveform(T, LM, Data)\n",
      "A.SetSpinWeight(1)\n",
      "\n",
      "# Note that I gave A (l,m)=(0,0) data, even though it has spin s=1.  That data will be removed any time it goes through edth.\n",
      "\n",
      "B = A.GHPEdth()\n",
      "C = B.IntegrateGHPEdth()\n",
      "D = B.GHPEdthBar()\n",
      "print A.Data()[:10,:]\n",
      "print B.Data()[:10,:]\n",
      "print(\"Nonzero terms above should be {0} and {1}\".format(Data[4,0]*sqrt((2-1)*(2+1+1)/2.), Data[9,0]*sqrt((3-1)*(3+1+1)/2.)))\n",
      "print C.Data()[:10,:]\n",
      "print D.Data()[:10,:]\n"
     ],
     "language": "python",
     "metadata": {},
     "outputs": [
      {
       "output_type": "stream",
       "stream": "stdout",
       "text": [
        "[[  2. +3.j   2. +3.j   2. +3.j]\n",
        " [  5. +7.j   5. +7.j   5. +7.j]\n",
        " [  0. +0.j   0. +0.j   0. +0.j]\n",
        " [  0. +0.j   0. +0.j   0. +0.j]\n",
        " [ 11.+13.j  11.+13.j  11.+13.j]\n",
        " [  0. +0.j   0. +0.j   0. +0.j]\n",
        " [  0. +0.j   0. +0.j   0. +0.j]\n",
        " [  0. +0.j   0. +0.j   0. +0.j]\n",
        " [  0. +0.j   0. +0.j   0. +0.j]\n",
        " [ 17.+19.j  17.+19.j  17.+19.j]]\n",
        "[[  0.00000000 +0.j           0.00000000 +0.j           0.00000000 +0.j        ]\n",
        " [  0.00000000 +0.j           0.00000000 +0.j           0.00000000 +0.j        ]\n",
        " [  0.00000000 +0.j           0.00000000 +0.j           0.00000000 +0.j        ]\n",
        " [  0.00000000 +0.j           0.00000000 +0.j           0.00000000 +0.j        ]\n",
        " [ 15.55634919+18.38477631j  15.55634919+18.38477631j\n",
        "   15.55634919+18.38477631j]\n",
        " [  0.00000000 +0.j           0.00000000 +0.j           0.00000000 +0.j        ]\n",
        " [  0.00000000 +0.j           0.00000000 +0.j           0.00000000 +0.j        ]\n",
        " [  0.00000000 +0.j           0.00000000 +0.j           0.00000000 +0.j        ]\n",
        " [  0.00000000 +0.j           0.00000000 +0.j           0.00000000 +0.j        ]\n",
        " [ 38.01315562+42.48529157j  38.01315562+42.48529157j\n",
        "   38.01315562+42.48529157j]]\n",
        "Nonzero terms above should be (15.5563491861+18.3847763109j) and (38.0131556175+42.4852915725j)\n",
        "[[  0. +0.j   0. +0.j   0. +0.j]\n",
        " [  0. +0.j   0. +0.j   0. +0.j]\n",
        " [  0. +0.j   0. +0.j   0. +0.j]\n",
        " [  0. +0.j   0. +0.j   0. +0.j]\n",
        " [ 11.+13.j  11.+13.j  11.+13.j]\n",
        " [  0. +0.j   0. +0.j   0. +0.j]\n",
        " [  0. +0.j   0. +0.j   0. +0.j]\n",
        " [  0. +0.j   0. +0.j   0. +0.j]\n",
        " [  0. +0.j   0. +0.j   0. +0.j]\n",
        " [ 17.+19.j  17.+19.j  17.+19.j]]\n",
        "[[  0. +0.j   0. +0.j   0. +0.j]\n",
        " [ -0. -0.j  -0. -0.j  -0. -0.j]\n",
        " [ -0. -0.j  -0. -0.j  -0. -0.j]\n",
        " [ -0. -0.j  -0. -0.j  -0. -0.j]\n",
        " [-22.-26.j -22.-26.j -22.-26.j]\n",
        " [ -0. -0.j  -0. -0.j  -0. -0.j]\n",
        " [ -0. -0.j  -0. -0.j  -0. -0.j]\n",
        " [ -0. -0.j  -0. -0.j  -0. -0.j]\n",
        " [ -0. -0.j  -0. -0.j  -0. -0.j]\n",
        " [-85.-95.j -85.-95.j -85.-95.j]]\n"
       ]
      }
     ],
     "prompt_number": 10
    },
    {
     "cell_type": "code",
     "collapsed": false,
     "input": [
      "A.SetSpinWeight(+1)\n",
      "\n",
      "B = A.GHPEdthBar()\n",
      "C = B.IntegrateGHPEdthBar()\n",
      "D = B.GHPEdth()\n",
      "print A.Data()[:10,:]\n",
      "print B.Data()[:10,:]\n",
      "print(\"Nonzero terms above should be {0}, {1}, and {2}\".format(-Data[1,0],\n",
      "    -Data[4,0]*sqrt((2+1)*(2-1+1)/2.),\n",
      "    -Data[9,0]*sqrt((3+1)*(3-1+1)/2.)))\n",
      "print C.Data()[:10,:]\n",
      "print D.Data()[:10,:]\n"
     ],
     "language": "python",
     "metadata": {},
     "outputs": [
      {
       "output_type": "stream",
       "stream": "stdout",
       "text": [
        "[[  2. +3.j   2. +3.j   2. +3.j]\n",
        " [  5. +7.j   5. +7.j   5. +7.j]\n",
        " [  0. +0.j   0. +0.j   0. +0.j]\n",
        " [  0. +0.j   0. +0.j   0. +0.j]\n",
        " [ 11.+13.j  11.+13.j  11.+13.j]\n",
        " [  0. +0.j   0. +0.j   0. +0.j]\n",
        " [  0. +0.j   0. +0.j   0. +0.j]\n",
        " [  0. +0.j   0. +0.j   0. +0.j]\n",
        " [  0. +0.j   0. +0.j   0. +0.j]\n",
        " [ 17.+19.j  17.+19.j  17.+19.j]]\n",
        "[[ -0.00000000 -0.j          -0.00000000 -0.j          -0.00000000 -0.j        ]\n",
        " [ -5.00000000 -7.j          -5.00000000 -7.j          -5.00000000 -7.j        ]\n",
        " [ -0.00000000 -0.j          -0.00000000 -0.j          -0.00000000 -0.j        ]\n",
        " [ -0.00000000 -0.j          -0.00000000 -0.j          -0.00000000 -0.j        ]\n",
        " [-19.05255888-22.5166605j  -19.05255888-22.5166605j\n",
        "  -19.05255888-22.5166605j ]\n",
        " [ -0.00000000 -0.j          -0.00000000 -0.j          -0.00000000 -0.j        ]\n",
        " [ -0.00000000 -0.j          -0.00000000 -0.j          -0.00000000 -0.j        ]\n",
        " [ -0.00000000 -0.j          -0.00000000 -0.j          -0.00000000 -0.j        ]\n",
        " [ -0.00000000 -0.j          -0.00000000 -0.j          -0.00000000 -0.j        ]\n",
        " [-41.64132563-46.54030511j -41.64132563-46.54030511j\n",
        "  -41.64132563-46.54030511j]]\n",
        "Nonzero terms above should be (-5-7j), (-19.0525588833-22.5166604984j), and (-41.6413256273-46.5403051129j)\n",
        "[[  0. +0.j   0. +0.j   0. +0.j]\n",
        " [  5. +7.j   5. +7.j   5. +7.j]\n",
        " [  0. +0.j   0. +0.j   0. +0.j]\n",
        " [  0. +0.j   0. +0.j   0. +0.j]\n",
        " [ 11.+13.j  11.+13.j  11.+13.j]\n",
        " [  0. +0.j   0. +0.j   0. +0.j]\n",
        " [  0. +0.j   0. +0.j   0. +0.j]\n",
        " [  0. +0.j   0. +0.j   0. +0.j]\n",
        " [  0. +0.j   0. +0.j   0. +0.j]\n",
        " [ 17.+19.j  17.+19.j  17.+19.j]]\n",
        "[[   0.  +0.j    0.  +0.j    0.  +0.j]\n",
        " [  -5.  -7.j   -5.  -7.j   -5.  -7.j]\n",
        " [  -0.  -0.j   -0.  -0.j   -0.  -0.j]\n",
        " [  -0.  -0.j   -0.  -0.j   -0.  -0.j]\n",
        " [ -33. -39.j  -33. -39.j  -33. -39.j]\n",
        " [  -0.  -0.j   -0.  -0.j   -0.  -0.j]\n",
        " [  -0.  -0.j   -0.  -0.j   -0.  -0.j]\n",
        " [  -0.  -0.j   -0.  -0.j   -0.  -0.j]\n",
        " [  -0.  -0.j   -0.  -0.j   -0.  -0.j]\n",
        " [-102.-114.j -102.-114.j -102.-114.j]]\n"
       ]
      }
     ],
     "prompt_number": 11
    },
    {
     "cell_type": "code",
     "collapsed": false,
     "input": [
      "A.SetSpinWeight(-1)\n",
      "\n",
      "B = A.GHPEdthBar()\n",
      "C = B.IntegrateGHPEdthBar()\n",
      "D = B.GHPEdth()\n",
      "print A.Data()[:10,:]\n",
      "print B.Data()[:10,:]\n",
      "print(\"Nonzero terms above should be {0}, {1}, and {2}\".format(0.0j,\n",
      "    -Data[4,0]*sqrt((2-1)*(2+1+1)/2.),\n",
      "    -Data[9,0]*sqrt((3-1)*(3+1+1)/2.)))\n",
      "print C.Data()[:10,:]\n",
      "print D.Data()[:10,:]\n"
     ],
     "language": "python",
     "metadata": {},
     "outputs": [
      {
       "output_type": "stream",
       "stream": "stdout",
       "text": [
        "[[  2. +3.j   2. +3.j   2. +3.j]\n",
        " [  5. +7.j   5. +7.j   5. +7.j]\n",
        " [  0. +0.j   0. +0.j   0. +0.j]\n",
        " [  0. +0.j   0. +0.j   0. +0.j]\n",
        " [ 11.+13.j  11.+13.j  11.+13.j]\n",
        " [  0. +0.j   0. +0.j   0. +0.j]\n",
        " [  0. +0.j   0. +0.j   0. +0.j]\n",
        " [  0. +0.j   0. +0.j   0. +0.j]\n",
        " [  0. +0.j   0. +0.j   0. +0.j]\n",
        " [ 17.+19.j  17.+19.j  17.+19.j]]\n",
        "[[  0.00000000 +0.j           0.00000000 +0.j           0.00000000 +0.j        ]\n",
        " [  0.00000000 +0.j           0.00000000 +0.j           0.00000000 +0.j        ]\n",
        " [  0.00000000 +0.j           0.00000000 +0.j           0.00000000 +0.j        ]\n",
        " [  0.00000000 +0.j           0.00000000 +0.j           0.00000000 +0.j        ]\n",
        " [-15.55634919-18.38477631j -15.55634919-18.38477631j\n",
        "  -15.55634919-18.38477631j]\n",
        " [ -0.00000000 -0.j          -0.00000000 -0.j          -0.00000000 -0.j        ]\n",
        " [ -0.00000000 -0.j          -0.00000000 -0.j          -0.00000000 -0.j        ]\n",
        " [ -0.00000000 -0.j          -0.00000000 -0.j          -0.00000000 -0.j        ]\n",
        " [ -0.00000000 -0.j          -0.00000000 -0.j          -0.00000000 -0.j        ]\n",
        " [-38.01315562-42.48529157j -38.01315562-42.48529157j\n",
        "  -38.01315562-42.48529157j]]\n",
        "Nonzero terms above should be 0j, (-15.5563491861-18.3847763109j), and (-38.0131556175-42.4852915725j)\n",
        "[[  0. +0.j   0. +0.j   0. +0.j]\n",
        " [  0. +0.j   0. +0.j   0. +0.j]\n",
        " [  0. +0.j   0. +0.j   0. +0.j]\n",
        " [  0. +0.j   0. +0.j   0. +0.j]\n",
        " [ 11.+13.j  11.+13.j  11.+13.j]\n",
        " [  0. +0.j   0. +0.j   0. +0.j]\n",
        " [  0. +0.j   0. +0.j   0. +0.j]\n",
        " [  0. +0.j   0. +0.j   0. +0.j]\n",
        " [  0. +0.j   0. +0.j   0. +0.j]\n",
        " [ 17.+19.j  17.+19.j  17.+19.j]]\n",
        "[[  0. +0.j   0. +0.j   0. +0.j]\n",
        " [  0. +0.j   0. +0.j   0. +0.j]\n",
        " [  0. +0.j   0. +0.j   0. +0.j]\n",
        " [  0. +0.j   0. +0.j   0. +0.j]\n",
        " [-22.-26.j -22.-26.j -22.-26.j]\n",
        " [ -0. -0.j  -0. -0.j  -0. -0.j]\n",
        " [ -0. -0.j  -0. -0.j  -0. -0.j]\n",
        " [ -0. -0.j  -0. -0.j  -0. -0.j]\n",
        " [ -0. -0.j  -0. -0.j  -0. -0.j]\n",
        " [-85.-95.j -85.-95.j -85.-95.j]]\n"
       ]
      }
     ],
     "prompt_number": 17
    },
    {
     "cell_type": "code",
     "collapsed": false,
     "input": [
      "B = A.GHPEdthBar()\n",
      "C = B.GHPEdthBar()\n",
      "D = C.GHPEdth()\n",
      "E = D.GHPEdth()\n",
      "print A.SpinWeight()\n",
      "print B.SpinWeight()\n",
      "print C.SpinWeight()\n",
      "print D.SpinWeight()\n",
      "print E.SpinWeight()"
     ],
     "language": "python",
     "metadata": {},
     "outputs": [
      {
       "output_type": "stream",
       "stream": "stdout",
       "text": [
        "-1\n",
        "-2\n",
        "-3\n",
        "-2\n",
        "-1\n"
       ]
      }
     ],
     "prompt_number": 13
    },
    {
     "cell_type": "code",
     "collapsed": false,
     "input": [
      "def EdthBarSqEdthSq(l) :\n",
      "    \"\"\"\n",
      "    Note that this formula only applies for s=0 functions.\n",
      "    \"\"\"\n",
      "    return (l-1.)*(l)*(l+1.)*(l+2.)/4.\n",
      "\n",
      "A.SetSpinWeight(0)\n",
      "\n",
      "B = A.GHPEdthBar().GHPEdthBar().GHPEdth().GHPEdth()\n",
      "print A.Data()[:10,:]\n",
      "print B.Data()[:10,:]\n",
      "print(\"Nonzero terms above should be {0}, {1}, and {2}\".format(\n",
      "    A.Data(1,0)*EdthBarSqEdthSq(A.LM()[1,0]),\n",
      "    A.Data(4,0)*EdthBarSqEdthSq(A.LM()[4,0]),\n",
      "    A.Data(9,0)*EdthBarSqEdthSq(A.LM()[9,0])))\n"
     ],
     "language": "python",
     "metadata": {},
     "outputs": [
      {
       "output_type": "stream",
       "stream": "stdout",
       "text": [
        "[[  2. +3.j   2. +3.j   2. +3.j]\n",
        " [  5. +7.j   5. +7.j   5. +7.j]\n",
        " [  0. +0.j   0. +0.j   0. +0.j]\n",
        " [  0. +0.j   0. +0.j   0. +0.j]\n",
        " [ 11.+13.j  11.+13.j  11.+13.j]\n",
        " [  0. +0.j   0. +0.j   0. +0.j]\n",
        " [  0. +0.j   0. +0.j   0. +0.j]\n",
        " [  0. +0.j   0. +0.j   0. +0.j]\n",
        " [  0. +0.j   0. +0.j   0. +0.j]\n",
        " [ 17.+19.j  17.+19.j  17.+19.j]]\n",
        "[[   0.  +0.j    0.  +0.j    0.  +0.j]\n",
        " [   0.  +0.j    0.  +0.j    0.  +0.j]\n",
        " [   0.  +0.j    0.  +0.j    0.  +0.j]\n",
        " [   0.  +0.j    0.  +0.j    0.  +0.j]\n",
        " [  66. +78.j   66. +78.j   66. +78.j]\n",
        " [   0.  +0.j    0.  +0.j    0.  +0.j]\n",
        " [   0.  +0.j    0.  +0.j    0.  +0.j]\n",
        " [   0.  +0.j    0.  +0.j    0.  +0.j]\n",
        " [   0.  +0.j    0.  +0.j    0.  +0.j]\n",
        " [ 510.+570.j  510.+570.j  510.+570.j]]\n",
        "Nonzero terms above should be 0j, (66+78j), and (510+570j)\n"
       ]
      }
     ],
     "prompt_number": 14
    },
    {
     "cell_type": "code",
     "collapsed": false,
     "input": [],
     "language": "python",
     "metadata": {},
     "outputs": []
    }
   ],
   "metadata": {}
  }
 ]
}