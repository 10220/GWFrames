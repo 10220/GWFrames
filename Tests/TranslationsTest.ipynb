{
 "metadata": {
  "name": "",
  "signature": "sha256:d25e51d540eb88e5c2cf346ae2e2101567353287e00f0ea2d5900fb51d788038"
 },
 "nbformat": 3,
 "nbformat_minor": 0,
 "worksheets": [
  {
   "cells": [
    {
     "cell_type": "markdown",
     "metadata": {},
     "source": [
      "I need to test the `GWFrames.Waveform.Translate` function.  I know what the answer should be when the modes are varying linearly in time.  So, I'll just fill a `Waveform` with some such data and test to see if it agrees with my expectations.  First, we derive the expected answer, and then do the test."
     ]
    },
    {
     "cell_type": "heading",
     "level": 1,
     "metadata": {},
     "source": [
      "Derivation"
     ]
    },
    {
     "cell_type": "markdown",
     "metadata": {},
     "source": [
      "We have a field $h$ representing the waveform on $\\mathscr{I}^+$.  The time slices are given as cuts of $\\mathscr{I}^+$ by a null cone from our chosen origin.  If we move that origin, we change the null cone, and hence the time slice.  In particular, if our new origin has position $\\vec{\\delta}$ with respect to the first, the time in a direction $\\hat{n}$ transforms as $t \\mapsto t - c\\, \\vec{\\delta} \\cdot \\hat{n}$ (where $c$ is the speed of light), and the field $h$ transforms as $h(\\hat{n}; t) \\mapsto h(\\hat{n}; t - c\\, \\vec{\\delta} \\cdot \\hat{n})$.  If we approximate $h(t)$ with the first two terms of its Taylor expansion, we have approximately $h(\\hat{n}; t) \\mapsto h(\\hat{n}; t) - \\dot{h}(\\hat{n}; t)\\, c\\, \\vec{\\delta} \\cdot \\hat{n}$.\n",
      "\n",
      "Now, we can expand $\\vec{\\delta} \\cdot \\hat{n}$ in (scalar) spherical harmonics, with mode weights $\\delta^M$, and $h(\\hat{n})$ in spin-weighted spherical harmonics.  Using the approximation above, we then have\n",
      "\\begin{align}\n",
      "h(\\hat{n}; t) &= \\sum_{\\ell,m} {}_{-2}Y_{\\ell,m}(\\hat{n}) h^{\\ell,m}(t) \\\\\n",
      "&\\mapsto \\sum_{\\ell,m} {}_{-2}Y_{\\ell,m}(\\hat{n}) \\left[ h^{\\ell,m}(t) - c\\, \\sum_M \\delta^M\\, \\dot{h}^{\\ell,m}(t)\\, Y_{1,M}(\\hat{n}) \\right].\n",
      "\\end{align}\n",
      "\n",
      "The key term we need to simplify is the product of the SWSH and the SH.  We can use two formulas from Alcubierre (2008), which give us\n",
      "\\begin{align}\n",
      "{}_{-2}Y_{\\ell,m}(\\hat{n})\\, Y_{1,M}(\\hat{n})\n",
      "&= \\sum_{\\ell',m'} {}_{-2}Y_{\\ell',m'}\n",
      "  \\sqrt{\\frac{3(2\\ell+1)(2\\ell'+1)}{4\\pi}}\n",
      "  \\begin{pmatrix}\n",
      "    1 & \\ell & \\ell'\\\\\n",
      "    M & m & -m'\n",
      "  \\end{pmatrix}\n",
      "  \\begin{pmatrix}\n",
      "    1 & \\ell & \\ell'\\\\\n",
      "    0 & 2 & -2\n",
      "  \\end{pmatrix}.\n",
      "\\end{align}\n",
      "Using this result in the equation above, we arrive at\n",
      "\\begin{equation}\n",
      "h^{\\ell,m}(t) \\mapsto h^{\\ell,m}(t) - c\\, \\sum_{\\ell',M} (-1)^{m-M} \\delta^M\\, \\dot{h}^{\\ell',m-M}(t)\\,\n",
      "  \\sqrt{\\frac{3(2\\ell+1)(2\\ell'+1)}{4\\pi}}\n",
      "  \\begin{pmatrix}\n",
      "    1 & \\ell' & \\ell\\\\\n",
      "    M & m-M & -m\n",
      "  \\end{pmatrix}\n",
      "  \\begin{pmatrix}\n",
      "    1 & \\ell' & \\ell\\\\\n",
      "    0 & 2 & -2\n",
      "  \\end{pmatrix}.\n",
      "\\end{equation}\n",
      "Here, the sum over $\\ell'$ need only range over $\\{\\ell-1, \\ell, \\ell+1\\}$, and the sum over $M$ need only range over $\\{-1,0,1\\}$.\n",
      "\n",
      "Given our knowledge of $h^{\\ell,m}$ and $\\dot{h}^{\\ell,m}$, we can simply plug into this formula, and arrive at our desired result.  If the modes are given exactly by these first two terms in the Taylor series, we have an exact expression for the translated modes.  In the next section, we will simply create a `Waveform` with such simple data."
     ]
    },
    {
     "cell_type": "heading",
     "level": 1,
     "metadata": {},
     "source": [
      "Numerical test"
     ]
    },
    {
     "cell_type": "heading",
     "level": 2,
     "metadata": {},
     "source": [
      "Fill the `Waveform` with a bunch of random data"
     ]
    },
    {
     "cell_type": "markdown",
     "metadata": {},
     "source": [
      "(But make it complex-linear in time.)"
     ]
    },
    {
     "cell_type": "code",
     "collapsed": false,
     "input": [
      "import random\n",
      "import GWFrames\n",
      "random.seed(1234)\n",
      "W = GWFrames.Waveform()\n",
      "T = linspace(0., 100.)\n",
      "LM = [[ell,m] for ell in range(2,8+1) for m in range(-ell,ell+1)]\n",
      "hlm = array([random.random()+1j*random.random() for lm in LM])\n",
      "hdotlm = array([random.random()+1j*random.random() for lm in LM])\n",
      "Data = array([h + hdot*T for h,hdot in zip(hlm,hdotlm)])\n",
      "W.SetSpinWeight(-2);\n",
      "W.SetFrameType(GWFrames.Inertial);\n",
      "W.SetDataType(GWFrames.h);\n",
      "W.SetRIsScaledOut(True);\n",
      "W.SetMIsScaledOut(True);\n",
      "W.SetT(T);\n",
      "W.SetLM(LM);\n",
      "W.SetData(Data);"
     ],
     "language": "python",
     "metadata": {},
     "outputs": [],
     "prompt_number": 13
    },
    {
     "cell_type": "code",
     "collapsed": false,
     "input": [],
     "language": "python",
     "metadata": {},
     "outputs": []
    },
    {
     "cell_type": "code",
     "collapsed": false,
     "input": [],
     "language": "python",
     "metadata": {},
     "outputs": []
    },
    {
     "cell_type": "heading",
     "level": 2,
     "metadata": {},
     "source": [
      "Calculate the expected translated modes"
     ]
    },
    {
     "cell_type": "code",
     "collapsed": false,
     "input": [],
     "language": "python",
     "metadata": {},
     "outputs": []
    },
    {
     "cell_type": "heading",
     "level": 2,
     "metadata": {},
     "source": [
      "Compare expected to computed"
     ]
    },
    {
     "cell_type": "code",
     "collapsed": false,
     "input": [],
     "language": "python",
     "metadata": {},
     "outputs": []
    },
    {
     "cell_type": "code",
     "collapsed": false,
     "input": [],
     "language": "python",
     "metadata": {},
     "outputs": []
    }
   ],
   "metadata": {}
  }
 ]
}